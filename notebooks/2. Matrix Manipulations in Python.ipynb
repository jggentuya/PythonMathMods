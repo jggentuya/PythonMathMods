{
 "cells": [
  {
   "cell_type": "markdown",
   "metadata": {},
   "source": [
    "# Matrix Manipulations in Python\n",
    "\n",
    "## Motivation\n",
    "With the explosion of data, data structures that can encode multiple categories of information and for multiple entities. Structures such as vectors and matrices are commonly used. Excel sheets, for example, are matrices. We are already familiar with computational analysis that takes advantage of the tabular format such as statistical analysis.\n",
    "\n",
    "In the more recent years, computers have become more powerful! In fact, smartphones now are magnitudes more powerful than the computers that were used to run the Apollo 11 mission!\n",
    "\n",
    "And with more computing power comes more possibilities. Computational theories such as neural networks in the 70s are now realized and used in applications such as recommender systems (think of youtube and netflix), weather forecasting, and autonomous vehicles (think of Tesla's driverless cars).\n",
    "\n",
    "What most people don't know is that these applications are built on top of mathematics concepts such as matrix decompositions, nonlinear transformations, matrix differentiation, and even Newton's methods!\n",
    "\n",
    "While we will not cover how those cool models are created, we will introduce the fundamentals of translating linear algebra operations from concepts to code."
   ]
  },
  {
   "cell_type": "markdown",
   "metadata": {},
   "source": [
    "## Numpy Arrays and Matrices\n",
    "In many algorithms, data is represented mathematically as a *vector* or a *matrix*. Conceptually, a vector is just a list of numbers, and a matrix is a two-dimensional list of numbers (a list of lists). This means that in theory, we can perform linear algebra operations using the structures and python methods that we already encountered (lists, arithmetic operations, loops, etc.) However, if we use those stuff, even computing basic operations like matrix multiplication are cumbersome to implement and slow to execute.\n",
    "\n",
    "Hence, we use numpy which implemented more optimized methods for performing basic routines. After 15 years of development, the main contributors of numpy finally published a paper on this very important python package. The link to the paper published in Nature can be found [here](https://www.nature.com/articles/s41586-020-2649-2)."
   ]
  },
  {
   "cell_type": "code",
   "execution_count": 1,
   "metadata": {
    "ExecuteTime": {
     "end_time": "2022-04-27T09:29:48.665377Z",
     "start_time": "2022-04-27T09:29:43.340718Z"
    }
   },
   "outputs": [],
   "source": [
    "import numpy as np # As mentioned before, the \"alias\" np is standard for python programmers"
   ]
  },
  {
   "cell_type": "markdown",
   "metadata": {},
   "source": [
    "#### Creating 1-D arrays"
   ]
  },
  {
   "cell_type": "code",
   "execution_count": 2,
   "metadata": {
    "ExecuteTime": {
     "end_time": "2022-04-27T09:29:48.674351Z",
     "start_time": "2022-04-27T09:29:48.666760Z"
    }
   },
   "outputs": [
    {
     "data": {
      "text/plain": [
       "array([1, 4, 3])"
      ]
     },
     "execution_count": 2,
     "metadata": {},
     "output_type": "execute_result"
    }
   ],
   "source": [
    "# Create a 1-D array by wrapping a list with NumPy's array() function.\n",
    "a = np.array([1, 4, 3])\n",
    "a"
   ]
  },
  {
   "cell_type": "code",
   "execution_count": 3,
   "metadata": {
    "ExecuteTime": {
     "end_time": "2022-04-27T09:29:48.679074Z",
     "start_time": "2022-04-27T09:29:48.676512Z"
    },
    "scrolled": true
   },
   "outputs": [
    {
     "name": "stdout",
     "output_type": "stream",
     "text": [
      "[1 4 3]\n"
     ]
    }
   ],
   "source": [
    "print(a)"
   ]
  },
  {
   "cell_type": "markdown",
   "metadata": {},
   "source": [
    "Notice that the displayed values in the print statement do not contain commas."
   ]
  },
  {
   "cell_type": "markdown",
   "metadata": {},
   "source": [
    "#### Creating 2-D arrays"
   ]
  },
  {
   "cell_type": "code",
   "execution_count": 4,
   "metadata": {
    "ExecuteTime": {
     "end_time": "2022-04-27T09:29:48.685135Z",
     "start_time": "2022-04-27T09:29:48.682025Z"
    }
   },
   "outputs": [
    {
     "data": {
      "text/plain": [
       "array([[1, 4, 3],\n",
       "       [2, 0, 3]])"
      ]
     },
     "execution_count": 4,
     "metadata": {},
     "output_type": "execute_result"
    }
   ],
   "source": [
    "# Create a 2-D array by wrapping a list of lists with NumPy's array() function.\n",
    "A = np.array([[1, 4, 3],\n",
    "              [2, 0, 3]])\n",
    "A"
   ]
  },
  {
   "cell_type": "code",
   "execution_count": 5,
   "metadata": {
    "ExecuteTime": {
     "end_time": "2022-04-27T09:29:48.689449Z",
     "start_time": "2022-04-27T09:29:48.686866Z"
    }
   },
   "outputs": [
    {
     "name": "stdout",
     "output_type": "stream",
     "text": [
      "[[1 4 3]\n",
      " [2 0 3]]\n"
     ]
    }
   ],
   "source": [
    "print(A)"
   ]
  },
  {
   "cell_type": "markdown",
   "metadata": {},
   "source": [
    "## Basic Operations on Arrays\n",
    "\n",
    "### Adding, Subtracting, Multiplying, and Dividing a Scalar To An Array"
   ]
  },
  {
   "cell_type": "code",
   "execution_count": 6,
   "metadata": {
    "ExecuteTime": {
     "end_time": "2022-04-27T09:29:48.692947Z",
     "start_time": "2022-04-27T09:29:48.690708Z"
    }
   },
   "outputs": [
    {
     "name": "stdout",
     "output_type": "stream",
     "text": [
      "[1 4 3]\n",
      "[6 9 8]\n"
     ]
    }
   ],
   "source": [
    "print(a)\n",
    "print(a + 5)"
   ]
  },
  {
   "cell_type": "code",
   "execution_count": 7,
   "metadata": {
    "ExecuteTime": {
     "end_time": "2022-04-27T09:29:48.696690Z",
     "start_time": "2022-04-27T09:29:48.694363Z"
    }
   },
   "outputs": [
    {
     "name": "stdout",
     "output_type": "stream",
     "text": [
      "[6 9 8]\n"
     ]
    }
   ],
   "source": [
    "# this is also commutative\n",
    "print(5 + a)"
   ]
  },
  {
   "cell_type": "code",
   "execution_count": 8,
   "metadata": {
    "ExecuteTime": {
     "end_time": "2022-04-27T09:29:48.703629Z",
     "start_time": "2022-04-27T09:29:48.700765Z"
    }
   },
   "outputs": [
    {
     "name": "stdout",
     "output_type": "stream",
     "text": [
      "[ 5 20 15]\n"
     ]
    }
   ],
   "source": [
    "# same thing for multiplication\n",
    "print(a * 5)"
   ]
  },
  {
   "cell_type": "code",
   "execution_count": 9,
   "metadata": {
    "ExecuteTime": {
     "end_time": "2022-04-27T09:29:48.708182Z",
     "start_time": "2022-04-27T09:29:48.705434Z"
    }
   },
   "outputs": [
    {
     "data": {
      "text/plain": [
       "array([-4, -1, -2])"
      ]
     },
     "execution_count": 9,
     "metadata": {},
     "output_type": "execute_result"
    }
   ],
   "source": [
    "# \n",
    "a - 5"
   ]
  },
  {
   "cell_type": "code",
   "execution_count": 10,
   "metadata": {
    "ExecuteTime": {
     "end_time": "2022-04-27T09:29:48.712139Z",
     "start_time": "2022-04-27T09:29:48.709124Z"
    }
   },
   "outputs": [
    {
     "data": {
      "text/plain": [
       "array([0.2, 0.8, 0.6])"
      ]
     },
     "execution_count": 10,
     "metadata": {},
     "output_type": "execute_result"
    }
   ],
   "source": [
    "a / 5"
   ]
  },
  {
   "cell_type": "markdown",
   "metadata": {},
   "source": [
    "<div class=\"alert alert-info\">\n",
    "    Note: All arithmetic operations between an array and a scalar applies the operation element-wise on the array.\n",
    "</div>"
   ]
  },
  {
   "cell_type": "markdown",
   "metadata": {},
   "source": [
    "### Operations on Arrays with Same Dimensions"
   ]
  },
  {
   "cell_type": "code",
   "execution_count": 11,
   "metadata": {
    "ExecuteTime": {
     "end_time": "2022-04-27T09:29:48.717759Z",
     "start_time": "2022-04-27T09:29:48.714102Z"
    }
   },
   "outputs": [
    {
     "data": {
      "text/plain": [
       "array([1, 4, 3])"
      ]
     },
     "execution_count": 11,
     "metadata": {},
     "output_type": "execute_result"
    }
   ],
   "source": [
    "a"
   ]
  },
  {
   "cell_type": "code",
   "execution_count": 12,
   "metadata": {
    "ExecuteTime": {
     "end_time": "2022-04-27T09:29:48.721479Z",
     "start_time": "2022-04-27T09:29:48.718936Z"
    }
   },
   "outputs": [
    {
     "name": "stdout",
     "output_type": "stream",
     "text": [
      "[1 4 3]\n",
      "[2 0 3]\n"
     ]
    }
   ],
   "source": [
    "b = np.array([2, 0, 3])\n",
    "\n",
    "print(a)\n",
    "print(b)"
   ]
  },
  {
   "cell_type": "code",
   "execution_count": 13,
   "metadata": {
    "ExecuteTime": {
     "end_time": "2022-04-27T09:29:48.725468Z",
     "start_time": "2022-04-27T09:29:48.722840Z"
    }
   },
   "outputs": [
    {
     "data": {
      "text/plain": [
       "array([3, 4, 6])"
      ]
     },
     "execution_count": 13,
     "metadata": {},
     "output_type": "execute_result"
    }
   ],
   "source": [
    "a + b"
   ]
  },
  {
   "cell_type": "code",
   "execution_count": 14,
   "metadata": {
    "ExecuteTime": {
     "end_time": "2022-04-27T09:29:48.730015Z",
     "start_time": "2022-04-27T09:29:48.726531Z"
    }
   },
   "outputs": [
    {
     "data": {
      "text/plain": [
       "array([-1,  4,  0])"
      ]
     },
     "execution_count": 14,
     "metadata": {},
     "output_type": "execute_result"
    }
   ],
   "source": [
    "a - b"
   ]
  },
  {
   "cell_type": "code",
   "execution_count": 15,
   "metadata": {
    "ExecuteTime": {
     "end_time": "2022-04-27T09:29:48.734885Z",
     "start_time": "2022-04-27T09:29:48.731537Z"
    }
   },
   "outputs": [
    {
     "data": {
      "text/plain": [
       "array([2, 0, 9])"
      ]
     },
     "execution_count": 15,
     "metadata": {},
     "output_type": "execute_result"
    }
   ],
   "source": [
    "a * b"
   ]
  },
  {
   "cell_type": "code",
   "execution_count": 16,
   "metadata": {
    "ExecuteTime": {
     "end_time": "2022-04-27T09:29:48.739585Z",
     "start_time": "2022-04-27T09:29:48.736132Z"
    }
   },
   "outputs": [
    {
     "name": "stderr",
     "output_type": "stream",
     "text": [
      "/Users/johntitusjungao/opt/anaconda3/envs/py4mathmods/lib/python3.7/site-packages/ipykernel_launcher.py:1: RuntimeWarning: divide by zero encountered in true_divide\n",
      "  \"\"\"Entry point for launching an IPython kernel.\n"
     ]
    },
    {
     "data": {
      "text/plain": [
       "array([0.5, inf, 1. ])"
      ]
     },
     "execution_count": 16,
     "metadata": {},
     "output_type": "execute_result"
    }
   ],
   "source": [
    "a / b"
   ]
  },
  {
   "cell_type": "markdown",
   "metadata": {},
   "source": [
    "<div class=\"alert alert-danger\">\n",
    "    Note: Dividing by zero will give you a warning like the one above. Also, the output shows <b>inf</b> which is the data type used to represent the results when dividing by 0.\n",
    "</div>"
   ]
  },
  {
   "cell_type": "code",
   "execution_count": 17,
   "metadata": {
    "ExecuteTime": {
     "end_time": "2022-04-27T09:29:48.743589Z",
     "start_time": "2022-04-27T09:29:48.740908Z"
    }
   },
   "outputs": [
    {
     "data": {
      "text/plain": [
       "array([ 1,  1, 27])"
      ]
     },
     "execution_count": 17,
     "metadata": {},
     "output_type": "execute_result"
    }
   ],
   "source": [
    "a ** b"
   ]
  },
  {
   "cell_type": "code",
   "execution_count": 18,
   "metadata": {
    "ExecuteTime": {
     "end_time": "2022-04-27T09:29:48.747988Z",
     "start_time": "2022-04-27T09:29:48.744866Z"
    }
   },
   "outputs": [
    {
     "name": "stderr",
     "output_type": "stream",
     "text": [
      "/Users/johntitusjungao/opt/anaconda3/envs/py4mathmods/lib/python3.7/site-packages/ipykernel_launcher.py:1: RuntimeWarning: divide by zero encountered in remainder\n",
      "  \"\"\"Entry point for launching an IPython kernel.\n"
     ]
    },
    {
     "data": {
      "text/plain": [
       "array([1, 0, 0])"
      ]
     },
     "execution_count": 18,
     "metadata": {},
     "output_type": "execute_result"
    }
   ],
   "source": [
    "a % b"
   ]
  },
  {
   "cell_type": "code",
   "execution_count": 19,
   "metadata": {
    "ExecuteTime": {
     "end_time": "2022-04-27T09:29:48.753325Z",
     "start_time": "2022-04-27T09:29:48.750112Z"
    }
   },
   "outputs": [
    {
     "name": "stdout",
     "output_type": "stream",
     "text": [
      "Matrix A:\n",
      "[[1 4 3]\n",
      " [2 0 3]]\n",
      "\n",
      "Matrix B:\n",
      "[[3 1 7]\n",
      " [1 5 4]]\n"
     ]
    }
   ],
   "source": [
    "# Let's set a 2-D array to perform operations\n",
    "B = np.array([[3, 1, 7],\n",
    "              [1, 5, 4]])\n",
    "\n",
    "print('Matrix A:')\n",
    "print(A)\n",
    "print()\n",
    "print('Matrix B:')\n",
    "print(B)"
   ]
  },
  {
   "cell_type": "code",
   "execution_count": 20,
   "metadata": {
    "ExecuteTime": {
     "end_time": "2022-04-27T09:29:48.757603Z",
     "start_time": "2022-04-27T09:29:48.754644Z"
    }
   },
   "outputs": [
    {
     "data": {
      "text/plain": [
       "array([[ 4,  5, 10],\n",
       "       [ 3,  5,  7]])"
      ]
     },
     "execution_count": 20,
     "metadata": {},
     "output_type": "execute_result"
    }
   ],
   "source": [
    "A + B"
   ]
  },
  {
   "cell_type": "code",
   "execution_count": 21,
   "metadata": {
    "ExecuteTime": {
     "end_time": "2022-04-27T09:29:48.761534Z",
     "start_time": "2022-04-27T09:29:48.758726Z"
    }
   },
   "outputs": [
    {
     "data": {
      "text/plain": [
       "array([[-2,  3, -4],\n",
       "       [ 1, -5, -1]])"
      ]
     },
     "execution_count": 21,
     "metadata": {},
     "output_type": "execute_result"
    }
   ],
   "source": [
    "A - B"
   ]
  },
  {
   "cell_type": "code",
   "execution_count": 22,
   "metadata": {
    "ExecuteTime": {
     "end_time": "2022-04-27T09:29:48.766029Z",
     "start_time": "2022-04-27T09:29:48.763110Z"
    }
   },
   "outputs": [
    {
     "data": {
      "text/plain": [
       "array([[ 3,  4, 21],\n",
       "       [ 2,  0, 12]])"
      ]
     },
     "execution_count": 22,
     "metadata": {},
     "output_type": "execute_result"
    }
   ],
   "source": [
    "A * B"
   ]
  },
  {
   "cell_type": "code",
   "execution_count": 23,
   "metadata": {
    "ExecuteTime": {
     "end_time": "2022-04-27T09:29:48.770314Z",
     "start_time": "2022-04-27T09:29:48.767320Z"
    }
   },
   "outputs": [
    {
     "data": {
      "text/plain": [
       "array([[0.33333333, 4.        , 0.42857143],\n",
       "       [2.        , 0.        , 0.75      ]])"
      ]
     },
     "execution_count": 23,
     "metadata": {},
     "output_type": "execute_result"
    }
   ],
   "source": [
    "A / B"
   ]
  },
  {
   "cell_type": "code",
   "execution_count": 24,
   "metadata": {
    "ExecuteTime": {
     "end_time": "2022-04-27T09:29:48.775479Z",
     "start_time": "2022-04-27T09:29:48.771532Z"
    }
   },
   "outputs": [
    {
     "data": {
      "text/plain": [
       "array([[   1,    4, 2187],\n",
       "       [   2,    0,   81]])"
      ]
     },
     "execution_count": 24,
     "metadata": {},
     "output_type": "execute_result"
    }
   ],
   "source": [
    "A ** B"
   ]
  },
  {
   "cell_type": "code",
   "execution_count": 25,
   "metadata": {
    "ExecuteTime": {
     "end_time": "2022-04-27T09:29:48.779555Z",
     "start_time": "2022-04-27T09:29:48.776582Z"
    }
   },
   "outputs": [
    {
     "data": {
      "text/plain": [
       "array([[1, 0, 3],\n",
       "       [0, 0, 3]])"
      ]
     },
     "execution_count": 25,
     "metadata": {},
     "output_type": "execute_result"
    }
   ],
   "source": [
    "A % B"
   ]
  },
  {
   "cell_type": "markdown",
   "metadata": {},
   "source": [
    "Note that both a and A are both `numpy ndarray` types. Think of it as n-dimensional arrays with different values for n."
   ]
  },
  {
   "cell_type": "code",
   "execution_count": 26,
   "metadata": {
    "ExecuteTime": {
     "end_time": "2022-04-27T09:29:48.787929Z",
     "start_time": "2022-04-27T09:29:48.785546Z"
    }
   },
   "outputs": [
    {
     "data": {
      "text/plain": [
       "numpy.ndarray"
      ]
     },
     "execution_count": 26,
     "metadata": {},
     "output_type": "execute_result"
    }
   ],
   "source": [
    "type(a)"
   ]
  },
  {
   "cell_type": "code",
   "execution_count": 27,
   "metadata": {
    "ExecuteTime": {
     "end_time": "2022-04-27T09:29:48.792544Z",
     "start_time": "2022-04-27T09:29:48.789931Z"
    }
   },
   "outputs": [
    {
     "data": {
      "text/plain": [
       "numpy.ndarray"
      ]
     },
     "execution_count": 27,
     "metadata": {},
     "output_type": "execute_result"
    }
   ],
   "source": [
    "type(A)"
   ]
  },
  {
   "cell_type": "markdown",
   "metadata": {},
   "source": [
    "### Multiplying Arrays\n",
    "\n",
    "Matrix multiplication is done using the `.dot()` method"
   ]
  },
  {
   "cell_type": "code",
   "execution_count": 28,
   "metadata": {
    "ExecuteTime": {
     "end_time": "2022-04-27T09:29:48.796708Z",
     "start_time": "2022-04-27T09:29:48.793695Z"
    }
   },
   "outputs": [
    {
     "data": {
      "text/plain": [
       "array([26, 11])"
      ]
     },
     "execution_count": 28,
     "metadata": {},
     "output_type": "execute_result"
    }
   ],
   "source": [
    "A.dot(a)"
   ]
  },
  {
   "cell_type": "markdown",
   "metadata": {},
   "source": [
    "### Getting The Transpose\n",
    "for transpose, use the attribute `.T`"
   ]
  },
  {
   "cell_type": "code",
   "execution_count": 29,
   "metadata": {
    "ExecuteTime": {
     "end_time": "2022-04-27T09:29:48.800697Z",
     "start_time": "2022-04-27T09:29:48.797991Z"
    }
   },
   "outputs": [
    {
     "data": {
      "text/plain": [
       "array([[1, 2],\n",
       "       [4, 0],\n",
       "       [3, 3]])"
      ]
     },
     "execution_count": 29,
     "metadata": {},
     "output_type": "execute_result"
    }
   ],
   "source": [
    "A.T"
   ]
  },
  {
   "cell_type": "markdown",
   "metadata": {},
   "source": [
    "### Array Attributes\n",
    "\n",
    "```Python\n",
    "dtype  - # The type of the elements in the array\n",
    "ndim   - # The number of axes (dimensions) of the array\n",
    "shape  - # A tuple of integers indicating the size of each dimension\n",
    "size   - # The total numer of elements in the array\n",
    "```"
   ]
  },
  {
   "cell_type": "code",
   "execution_count": 30,
   "metadata": {
    "ExecuteTime": {
     "end_time": "2022-04-27T09:29:48.804814Z",
     "start_time": "2022-04-27T09:29:48.802005Z"
    }
   },
   "outputs": [
    {
     "data": {
      "text/plain": [
       "dtype('int64')"
      ]
     },
     "execution_count": 30,
     "metadata": {},
     "output_type": "execute_result"
    }
   ],
   "source": [
    "a.dtype"
   ]
  },
  {
   "cell_type": "code",
   "execution_count": 31,
   "metadata": {
    "ExecuteTime": {
     "end_time": "2022-04-27T09:29:48.808482Z",
     "start_time": "2022-04-27T09:29:48.805896Z"
    }
   },
   "outputs": [
    {
     "data": {
      "text/plain": [
       "dtype('int64')"
      ]
     },
     "execution_count": 31,
     "metadata": {},
     "output_type": "execute_result"
    }
   ],
   "source": [
    "A.dtype"
   ]
  },
  {
   "cell_type": "code",
   "execution_count": 32,
   "metadata": {
    "ExecuteTime": {
     "end_time": "2022-04-27T09:29:48.813058Z",
     "start_time": "2022-04-27T09:29:48.809418Z"
    }
   },
   "outputs": [
    {
     "data": {
      "text/plain": [
       "1"
      ]
     },
     "execution_count": 32,
     "metadata": {},
     "output_type": "execute_result"
    }
   ],
   "source": [
    "a.ndim"
   ]
  },
  {
   "cell_type": "code",
   "execution_count": 33,
   "metadata": {
    "ExecuteTime": {
     "end_time": "2022-04-27T09:29:48.816722Z",
     "start_time": "2022-04-27T09:29:48.814305Z"
    }
   },
   "outputs": [
    {
     "data": {
      "text/plain": [
       "2"
      ]
     },
     "execution_count": 33,
     "metadata": {},
     "output_type": "execute_result"
    }
   ],
   "source": [
    "A.ndim"
   ]
  },
  {
   "cell_type": "code",
   "execution_count": 34,
   "metadata": {
    "ExecuteTime": {
     "end_time": "2022-04-27T09:29:48.820339Z",
     "start_time": "2022-04-27T09:29:48.817883Z"
    }
   },
   "outputs": [
    {
     "data": {
      "text/plain": [
       "(3,)"
      ]
     },
     "execution_count": 34,
     "metadata": {},
     "output_type": "execute_result"
    }
   ],
   "source": [
    "a.shape"
   ]
  },
  {
   "cell_type": "code",
   "execution_count": 35,
   "metadata": {
    "ExecuteTime": {
     "end_time": "2022-04-27T09:29:48.824305Z",
     "start_time": "2022-04-27T09:29:48.821526Z"
    }
   },
   "outputs": [
    {
     "data": {
      "text/plain": [
       "(2, 3)"
      ]
     },
     "execution_count": 35,
     "metadata": {},
     "output_type": "execute_result"
    }
   ],
   "source": [
    "A.shape"
   ]
  },
  {
   "cell_type": "code",
   "execution_count": 36,
   "metadata": {
    "ExecuteTime": {
     "end_time": "2022-04-27T09:29:48.828297Z",
     "start_time": "2022-04-27T09:29:48.825422Z"
    }
   },
   "outputs": [
    {
     "data": {
      "text/plain": [
       "3"
      ]
     },
     "execution_count": 36,
     "metadata": {},
     "output_type": "execute_result"
    }
   ],
   "source": [
    "a.size"
   ]
  },
  {
   "cell_type": "code",
   "execution_count": 37,
   "metadata": {
    "ExecuteTime": {
     "end_time": "2022-04-27T09:29:48.831882Z",
     "start_time": "2022-04-27T09:29:48.829377Z"
    }
   },
   "outputs": [
    {
     "data": {
      "text/plain": [
       "6"
      ]
     },
     "execution_count": 37,
     "metadata": {},
     "output_type": "execute_result"
    }
   ],
   "source": [
    "A.size"
   ]
  },
  {
   "cell_type": "markdown",
   "metadata": {},
   "source": [
    "### Array Creation Routines\n",
    "Aside from casting other structures such as list as arrays using np.array(), Numpy also have ways to generate commonly used structures."
   ]
  },
  {
   "cell_type": "code",
   "execution_count": 38,
   "metadata": {
    "ExecuteTime": {
     "end_time": "2022-04-27T09:29:48.835724Z",
     "start_time": "2022-04-27T09:29:48.832959Z"
    }
   },
   "outputs": [
    {
     "data": {
      "text/plain": [
       "array([0, 1, 2, 3, 4, 5, 6, 7, 8, 9])"
      ]
     },
     "execution_count": 38,
     "metadata": {},
     "output_type": "execute_result"
    }
   ],
   "source": [
    "np.arange(10)"
   ]
  },
  {
   "cell_type": "code",
   "execution_count": 39,
   "metadata": {
    "ExecuteTime": {
     "end_time": "2022-04-27T09:29:48.839813Z",
     "start_time": "2022-04-27T09:29:48.836797Z"
    }
   },
   "outputs": [
    {
     "data": {
      "text/plain": [
       "array([[1., 0., 0.],\n",
       "       [0., 1., 0.],\n",
       "       [0., 0., 1.]])"
      ]
     },
     "execution_count": 39,
     "metadata": {},
     "output_type": "execute_result"
    }
   ],
   "source": [
    "I = np.eye(3)\n",
    "I"
   ]
  },
  {
   "cell_type": "code",
   "execution_count": 40,
   "metadata": {
    "ExecuteTime": {
     "end_time": "2022-04-27T09:29:48.843998Z",
     "start_time": "2022-04-27T09:29:48.840993Z"
    }
   },
   "outputs": [
    {
     "data": {
      "text/plain": [
       "array([[1., 1., 1., 1.],\n",
       "       [1., 1., 1., 1.],\n",
       "       [1., 1., 1., 1.],\n",
       "       [1., 1., 1., 1.]])"
      ]
     },
     "execution_count": 40,
     "metadata": {},
     "output_type": "execute_result"
    }
   ],
   "source": [
    "ones = np.ones((4, 4))\n",
    "ones"
   ]
  },
  {
   "cell_type": "code",
   "execution_count": 41,
   "metadata": {
    "ExecuteTime": {
     "end_time": "2022-04-27T09:29:48.848156Z",
     "start_time": "2022-04-27T09:29:48.845225Z"
    }
   },
   "outputs": [
    {
     "data": {
      "text/plain": [
       "array([[0., 0., 0.],\n",
       "       [0., 0., 0.],\n",
       "       [0., 0., 0.],\n",
       "       [0., 0., 0.]])"
      ]
     },
     "execution_count": 41,
     "metadata": {},
     "output_type": "execute_result"
    }
   ],
   "source": [
    "zeros = np.zeros((4, 3))\n",
    "zeros"
   ]
  },
  {
   "cell_type": "markdown",
   "metadata": {},
   "source": [
    "<div class=\"alert alert-danger\">\n",
    "    Note: Elements in a numpy array must have a uniform data type (all ints, all floats, etc.).\n",
    "</div>"
   ]
  },
  {
   "cell_type": "code",
   "execution_count": 42,
   "metadata": {
    "ExecuteTime": {
     "end_time": "2022-04-27T09:29:48.850850Z",
     "start_time": "2022-04-27T09:29:48.849214Z"
    }
   },
   "outputs": [],
   "source": [
    "# to change data types, you can use the astype() method"
   ]
  },
  {
   "cell_type": "code",
   "execution_count": 43,
   "metadata": {
    "ExecuteTime": {
     "end_time": "2022-04-27T09:29:48.854199Z",
     "start_time": "2022-04-27T09:29:48.851854Z"
    }
   },
   "outputs": [
    {
     "data": {
      "text/plain": [
       "dtype('float64')"
      ]
     },
     "execution_count": 43,
     "metadata": {},
     "output_type": "execute_result"
    }
   ],
   "source": [
    "I.dtype"
   ]
  },
  {
   "cell_type": "code",
   "execution_count": 44,
   "metadata": {
    "ExecuteTime": {
     "end_time": "2022-04-27T09:29:48.857669Z",
     "start_time": "2022-04-27T09:29:48.855139Z"
    }
   },
   "outputs": [
    {
     "data": {
      "text/plain": [
       "array([[1, 0, 0],\n",
       "       [0, 1, 0],\n",
       "       [0, 0, 1]])"
      ]
     },
     "execution_count": 44,
     "metadata": {},
     "output_type": "execute_result"
    }
   ],
   "source": [
    "I.astype(int)"
   ]
  },
  {
   "cell_type": "markdown",
   "metadata": {},
   "source": [
    "You can also get the **diagonal**, **lower-triangular portion**, and **upper-triangular portion** of a matrix."
   ]
  },
  {
   "cell_type": "code",
   "execution_count": 45,
   "metadata": {
    "ExecuteTime": {
     "end_time": "2022-04-27T09:29:48.861878Z",
     "start_time": "2022-04-27T09:29:48.858894Z"
    }
   },
   "outputs": [
    {
     "data": {
      "text/plain": [
       "array([[1., 1., 1., 1.],\n",
       "       [1., 1., 1., 1.],\n",
       "       [1., 1., 1., 1.],\n",
       "       [1., 1., 1., 1.]])"
      ]
     },
     "execution_count": 45,
     "metadata": {},
     "output_type": "execute_result"
    }
   ],
   "source": [
    "ones"
   ]
  },
  {
   "cell_type": "code",
   "execution_count": 46,
   "metadata": {
    "ExecuteTime": {
     "end_time": "2022-04-27T09:29:48.867882Z",
     "start_time": "2022-04-27T09:29:48.863106Z"
    }
   },
   "outputs": [
    {
     "data": {
      "text/plain": [
       "array([[1., 1., 1., 1.],\n",
       "       [0., 1., 1., 1.],\n",
       "       [0., 0., 1., 1.],\n",
       "       [0., 0., 0., 1.]])"
      ]
     },
     "execution_count": 46,
     "metadata": {},
     "output_type": "execute_result"
    }
   ],
   "source": [
    "np.triu(ones)"
   ]
  },
  {
   "cell_type": "code",
   "execution_count": 47,
   "metadata": {
    "ExecuteTime": {
     "end_time": "2022-04-27T09:29:48.872248Z",
     "start_time": "2022-04-27T09:29:48.869244Z"
    }
   },
   "outputs": [
    {
     "data": {
      "text/plain": [
       "array([[1., 0., 0., 0.],\n",
       "       [1., 1., 0., 0.],\n",
       "       [1., 1., 1., 0.],\n",
       "       [1., 1., 1., 1.]])"
      ]
     },
     "execution_count": 47,
     "metadata": {},
     "output_type": "execute_result"
    }
   ],
   "source": [
    "np.tril(ones)"
   ]
  },
  {
   "cell_type": "code",
   "execution_count": 48,
   "metadata": {
    "ExecuteTime": {
     "end_time": "2022-04-27T09:29:48.876442Z",
     "start_time": "2022-04-27T09:29:48.873623Z"
    }
   },
   "outputs": [
    {
     "data": {
      "text/plain": [
       "array([1., 1., 1., 1.])"
      ]
     },
     "execution_count": 48,
     "metadata": {},
     "output_type": "execute_result"
    }
   ],
   "source": [
    "np.diag(ones)"
   ]
  },
  {
   "cell_type": "markdown",
   "metadata": {},
   "source": [
    "<div class=\"alert alert-success\">\n",
    "    Create the following matrices below without using np.array()\n",
    "</div>"
   ]
  },
  {
   "cell_type": "code",
   "execution_count": 49,
   "metadata": {
    "ExecuteTime": {
     "end_time": "2022-04-27T09:29:48.880858Z",
     "start_time": "2022-04-27T09:29:48.877531Z"
    }
   },
   "outputs": [
    {
     "data": {
      "text/plain": [
       "array([[1, 1, 1],\n",
       "       [0, 1, 1],\n",
       "       [0, 0, 1]])"
      ]
     },
     "execution_count": 49,
     "metadata": {},
     "output_type": "execute_result"
    }
   ],
   "source": [
    "np.array([[1, 1, 1], [0, 1, 1], [0, 0, 1]])"
   ]
  },
  {
   "cell_type": "code",
   "execution_count": 50,
   "metadata": {
    "ExecuteTime": {
     "end_time": "2022-04-27T09:29:48.885173Z",
     "start_time": "2022-04-27T09:29:48.881964Z"
    }
   },
   "outputs": [
    {
     "data": {
      "text/plain": [
       "array([[-2,  3,  3],\n",
       "       [-2, -2,  3],\n",
       "       [-2, -2, -2]])"
      ]
     },
     "execution_count": 50,
     "metadata": {},
     "output_type": "execute_result"
    }
   ],
   "source": [
    "np.array([[-2, 3, 3], [-2, -2, 3], [-2, -2, -2]])"
   ]
  },
  {
   "cell_type": "markdown",
   "metadata": {},
   "source": [
    "### Slicing and Indexing Arrays\n",
    "\n",
    "#### Indexing 1-D arrays\n",
    "Indexing 1-D arrays is the same syntax as in lists. That is, it follows the following format:\n",
    "\n",
    "`x[start:stop:step]`"
   ]
  },
  {
   "cell_type": "code",
   "execution_count": 51,
   "metadata": {
    "ExecuteTime": {
     "end_time": "2022-04-27T09:29:48.888881Z",
     "start_time": "2022-04-27T09:29:48.886136Z"
    }
   },
   "outputs": [
    {
     "data": {
      "text/plain": [
       "array([0, 1, 2, 3, 4, 5, 6, 7, 8, 9])"
      ]
     },
     "execution_count": 51,
     "metadata": {},
     "output_type": "execute_result"
    }
   ],
   "source": [
    "# example\n",
    "x = np.arange(10)\n",
    "x"
   ]
  },
  {
   "cell_type": "code",
   "execution_count": 52,
   "metadata": {
    "ExecuteTime": {
     "end_time": "2022-04-27T09:29:48.892647Z",
     "start_time": "2022-04-27T09:29:48.890074Z"
    }
   },
   "outputs": [
    {
     "data": {
      "text/plain": [
       "3"
      ]
     },
     "execution_count": 52,
     "metadata": {},
     "output_type": "execute_result"
    }
   ],
   "source": [
    "# access an element by indexing\n",
    "x[3]"
   ]
  },
  {
   "cell_type": "code",
   "execution_count": 53,
   "metadata": {
    "ExecuteTime": {
     "end_time": "2022-04-27T09:29:48.896337Z",
     "start_time": "2022-04-27T09:29:48.893686Z"
    }
   },
   "outputs": [
    {
     "data": {
      "text/plain": [
       "array([0, 1, 2, 3])"
      ]
     },
     "execution_count": 53,
     "metadata": {},
     "output_type": "execute_result"
    }
   ],
   "source": [
    "# access the first 4 elements\n",
    "x[0:4]"
   ]
  },
  {
   "cell_type": "code",
   "execution_count": 54,
   "metadata": {
    "ExecuteTime": {
     "end_time": "2022-04-27T09:29:48.899628Z",
     "start_time": "2022-04-27T09:29:48.897333Z"
    }
   },
   "outputs": [
    {
     "data": {
      "text/plain": [
       "array([0, 1, 2, 3])"
      ]
     },
     "execution_count": 54,
     "metadata": {},
     "output_type": "execute_result"
    }
   ],
   "source": [
    "# alternative\n",
    "x[:4]"
   ]
  },
  {
   "cell_type": "code",
   "execution_count": 55,
   "metadata": {
    "ExecuteTime": {
     "end_time": "2022-04-27T09:29:48.903016Z",
     "start_time": "2022-04-27T09:29:48.900634Z"
    }
   },
   "outputs": [
    {
     "data": {
      "text/plain": [
       "array([3, 4, 5, 6, 7])"
      ]
     },
     "execution_count": 55,
     "metadata": {},
     "output_type": "execute_result"
    }
   ],
   "source": [
    "# getting elements from 3 to 9\n",
    "x[3:8]"
   ]
  },
  {
   "cell_type": "markdown",
   "metadata": {},
   "source": [
    "#### Indexing 2-D arrays\n",
    "\n",
    "Correspondingly, for 2D arrays the following are the syntax:"
   ]
  },
  {
   "cell_type": "code",
   "execution_count": 56,
   "metadata": {
    "ExecuteTime": {
     "end_time": "2022-04-27T09:29:48.907015Z",
     "start_time": "2022-04-27T09:29:48.904287Z"
    }
   },
   "outputs": [
    {
     "data": {
      "text/plain": [
       "array([[1, 2, 3, 4],\n",
       "       [5, 6, 7, 8]])"
      ]
     },
     "execution_count": 56,
     "metadata": {},
     "output_type": "execute_result"
    }
   ],
   "source": [
    "# create a sample 2D array\n",
    "A = np.array([[1, 2, 3, 4], [5, 6, 7, 8]])\n",
    "A"
   ]
  },
  {
   "cell_type": "code",
   "execution_count": 57,
   "metadata": {
    "ExecuteTime": {
     "end_time": "2022-04-27T09:29:48.910395Z",
     "start_time": "2022-04-27T09:29:48.908001Z"
    }
   },
   "outputs": [
    {
     "data": {
      "text/plain": [
       "array([1, 2, 3, 4])"
      ]
     },
     "execution_count": 57,
     "metadata": {},
     "output_type": "execute_result"
    }
   ],
   "source": [
    "# access the first row\n",
    "A[0]"
   ]
  },
  {
   "cell_type": "code",
   "execution_count": 58,
   "metadata": {
    "ExecuteTime": {
     "end_time": "2022-04-27T09:29:48.913834Z",
     "start_time": "2022-04-27T09:29:48.911458Z"
    }
   },
   "outputs": [
    {
     "data": {
      "text/plain": [
       "array([5, 6, 7, 8])"
      ]
     },
     "execution_count": 58,
     "metadata": {},
     "output_type": "execute_result"
    }
   ],
   "source": [
    "# access the second row\n",
    "A[1]"
   ]
  },
  {
   "cell_type": "code",
   "execution_count": 60,
   "metadata": {
    "ExecuteTime": {
     "end_time": "2022-04-27T09:30:02.439817Z",
     "start_time": "2022-04-27T09:30:02.427745Z"
    }
   },
   "outputs": [
    {
     "ename": "IndexError",
     "evalue": "index 2 is out of bounds for axis 0 with size 2",
     "output_type": "error",
     "traceback": [
      "\u001b[0;31m---------------------------------------------------------------------------\u001b[0m",
      "\u001b[0;31mIndexError\u001b[0m                                Traceback (most recent call last)",
      "\u001b[0;32m/var/folders/st/pgpvb6m12hq9ksmsbt9js35r0000gn/T/ipykernel_29983/119407165.py\u001b[0m in \u001b[0;36m<module>\u001b[0;34m\u001b[0m\n\u001b[1;32m      1\u001b[0m \u001b[0;31m# there is no third row\u001b[0m\u001b[0;34m\u001b[0m\u001b[0;34m\u001b[0m\u001b[0;34m\u001b[0m\u001b[0m\n\u001b[0;32m----> 2\u001b[0;31m \u001b[0mA\u001b[0m\u001b[0;34m[\u001b[0m\u001b[0;36m2\u001b[0m\u001b[0;34m]\u001b[0m\u001b[0;34m\u001b[0m\u001b[0;34m\u001b[0m\u001b[0m\n\u001b[0m",
      "\u001b[0;31mIndexError\u001b[0m: index 2 is out of bounds for axis 0 with size 2"
     ]
    }
   ],
   "source": [
    "# there is no third row\n",
    "A[2]"
   ]
  },
  {
   "cell_type": "markdown",
   "metadata": {},
   "source": [
    "When we try to get an index which is beyond the dimensions of our array, we get the error above."
   ]
  },
  {
   "cell_type": "code",
   "execution_count": null,
   "metadata": {
    "ExecuteTime": {
     "end_time": "2022-04-27T09:30:02.444248Z",
     "start_time": "2022-04-27T09:30:02.444225Z"
    }
   },
   "outputs": [],
   "source": [
    "# accessing column 0\n",
    "A[:, 0]"
   ]
  },
  {
   "cell_type": "code",
   "execution_count": null,
   "metadata": {
    "ExecuteTime": {
     "end_time": "2022-04-27T09:30:02.446271Z",
     "start_time": "2022-04-27T09:30:02.446244Z"
    }
   },
   "outputs": [],
   "source": [
    "# accessing column 1\n",
    "A[:, 1]"
   ]
  },
  {
   "cell_type": "code",
   "execution_count": null,
   "metadata": {
    "ExecuteTime": {
     "end_time": "2022-04-27T09:30:02.448060Z",
     "start_time": "2022-04-27T09:30:02.448039Z"
    }
   },
   "outputs": [],
   "source": [
    "# accessing element in row 1, column 2\n",
    "A[1, 2]"
   ]
  },
  {
   "cell_type": "code",
   "execution_count": null,
   "metadata": {
    "ExecuteTime": {
     "end_time": "2022-04-27T09:30:02.449892Z",
     "start_time": "2022-04-27T09:30:02.449874Z"
    }
   },
   "outputs": [],
   "source": [
    "# accessing all rows from column 2 onwards\n",
    "A[:, 2:]"
   ]
  },
  {
   "cell_type": "markdown",
   "metadata": {},
   "source": [
    "### Shaping Arrays\n",
    "\n",
    "You can reshape numpy arrays using the `reshape()` array method."
   ]
  },
  {
   "cell_type": "code",
   "execution_count": null,
   "metadata": {
    "ExecuteTime": {
     "end_time": "2022-04-27T09:30:02.450876Z",
     "start_time": "2022-04-27T09:30:02.450863Z"
    }
   },
   "outputs": [],
   "source": [
    "A"
   ]
  },
  {
   "cell_type": "code",
   "execution_count": null,
   "metadata": {
    "ExecuteTime": {
     "end_time": "2022-04-27T09:30:02.451989Z",
     "start_time": "2022-04-27T09:30:02.451978Z"
    }
   },
   "outputs": [],
   "source": [
    "A.shape"
   ]
  },
  {
   "cell_type": "code",
   "execution_count": null,
   "metadata": {
    "ExecuteTime": {
     "end_time": "2022-04-27T09:30:02.453516Z",
     "start_time": "2022-04-27T09:30:02.453501Z"
    }
   },
   "outputs": [],
   "source": [
    "# reshape into 1 x 8\n",
    "A.reshape((1, 8))"
   ]
  },
  {
   "cell_type": "code",
   "execution_count": null,
   "metadata": {
    "ExecuteTime": {
     "end_time": "2022-04-27T09:30:02.454912Z",
     "start_time": "2022-04-27T09:30:02.454900Z"
    }
   },
   "outputs": [],
   "source": [
    "# reshape into 1 x 8\n",
    "A.reshape((8, 1))"
   ]
  },
  {
   "cell_type": "code",
   "execution_count": null,
   "metadata": {
    "ExecuteTime": {
     "end_time": "2022-04-27T09:30:02.456303Z",
     "start_time": "2022-04-27T09:30:02.456291Z"
    }
   },
   "outputs": [],
   "source": [
    "A.reshape((4, 2))"
   ]
  },
  {
   "cell_type": "markdown",
   "metadata": {},
   "source": [
    "### Flatten\n",
    "You can convert a 2-D array into a 1-D array using the `ravel()` method"
   ]
  },
  {
   "cell_type": "code",
   "execution_count": null,
   "metadata": {
    "ExecuteTime": {
     "end_time": "2022-04-27T09:30:02.460001Z",
     "start_time": "2022-04-27T09:30:02.459985Z"
    }
   },
   "outputs": [],
   "source": [
    "A.ravel()"
   ]
  },
  {
   "cell_type": "code",
   "execution_count": null,
   "metadata": {
    "ExecuteTime": {
     "end_time": "2022-04-27T09:30:02.461114Z",
     "start_time": "2022-04-27T09:30:02.461103Z"
    }
   },
   "outputs": [],
   "source": [
    "A.reshape(8)"
   ]
  },
  {
   "cell_type": "markdown",
   "metadata": {},
   "source": [
    "## Numerical Computing With Numpy\n",
    "\n",
    "### Universal Functions\n",
    "A *universal function* is one that operates in the entire array in an element-wise manner.\n",
    "\n",
    "np.exp() / np.log - # element-wise exponentiation and natural log\n",
    "np.minimum() / np.maximum() - # element-wise minimum and maximum of two arrays\n",
    "np.sqrt() - # positive square root element-wise\n",
    "np.sin(), np.cos(), np.tan(), etc. - # element-wise trigonometric operations"
   ]
  },
  {
   "cell_type": "code",
   "execution_count": null,
   "metadata": {
    "ExecuteTime": {
     "end_time": "2022-04-27T09:30:02.461817Z",
     "start_time": "2022-04-27T09:30:02.461806Z"
    }
   },
   "outputs": [],
   "source": [
    "# calculate the absolute value element-wise\n",
    "np.abs(A)"
   ]
  },
  {
   "cell_type": "code",
   "execution_count": null,
   "metadata": {
    "ExecuteTime": {
     "end_time": "2022-04-27T09:30:02.462601Z",
     "start_time": "2022-04-27T09:30:02.462591Z"
    }
   },
   "outputs": [],
   "source": [
    "# calculate element-wise exponential\n",
    "np.exp(A)"
   ]
  },
  {
   "cell_type": "code",
   "execution_count": null,
   "metadata": {
    "ExecuteTime": {
     "end_time": "2022-04-27T09:30:02.463523Z",
     "start_time": "2022-04-27T09:30:02.463511Z"
    }
   },
   "outputs": [],
   "source": [
    "np.log(A)"
   ]
  },
  {
   "cell_type": "code",
   "execution_count": null,
   "metadata": {
    "ExecuteTime": {
     "end_time": "2022-04-27T09:30:02.464495Z",
     "start_time": "2022-04-27T09:30:02.464485Z"
    }
   },
   "outputs": [],
   "source": [
    "np.minimum(np.ones((3, 3)), np.eye(3))"
   ]
  },
  {
   "cell_type": "code",
   "execution_count": null,
   "metadata": {
    "ExecuteTime": {
     "end_time": "2022-04-27T09:30:02.465163Z",
     "start_time": "2022-04-27T09:30:02.465154Z"
    }
   },
   "outputs": [],
   "source": [
    "np.maximum(np.ones((3, 3)), np.eye(3))"
   ]
  },
  {
   "cell_type": "code",
   "execution_count": null,
   "metadata": {
    "ExecuteTime": {
     "end_time": "2022-04-27T09:30:02.465912Z",
     "start_time": "2022-04-27T09:30:02.465903Z"
    }
   },
   "outputs": [],
   "source": [
    "np.sqrt(A)"
   ]
  },
  {
   "cell_type": "code",
   "execution_count": null,
   "metadata": {
    "ExecuteTime": {
     "end_time": "2022-04-27T09:30:02.466945Z",
     "start_time": "2022-04-27T09:30:02.466932Z"
    }
   },
   "outputs": [],
   "source": [
    "# trigonometric functions\n",
    "np.sin(A)"
   ]
  },
  {
   "cell_type": "markdown",
   "metadata": {},
   "source": [
    "<div class=\"alert alert-info\">\n",
    "    Tip: Always use universal numpy functions when working with arrays rather than using the math package.\n",
    "</div>"
   ]
  },
  {
   "cell_type": "markdown",
   "metadata": {},
   "source": [
    "### Other Useful Array Methods"
   ]
  },
  {
   "cell_type": "code",
   "execution_count": null,
   "metadata": {
    "ExecuteTime": {
     "end_time": "2022-04-27T09:30:02.467895Z",
     "start_time": "2022-04-27T09:30:02.467886Z"
    }
   },
   "outputs": [],
   "source": [
    "A"
   ]
  },
  {
   "cell_type": "code",
   "execution_count": null,
   "metadata": {
    "ExecuteTime": {
     "end_time": "2022-04-27T09:30:02.468660Z",
     "start_time": "2022-04-27T09:30:02.468651Z"
    }
   },
   "outputs": [],
   "source": [
    "np.all(A > 0)"
   ]
  },
  {
   "cell_type": "code",
   "execution_count": null,
   "metadata": {
    "ExecuteTime": {
     "end_time": "2022-04-27T09:30:02.469460Z",
     "start_time": "2022-04-27T09:30:02.469451Z"
    }
   },
   "outputs": [],
   "source": [
    "np.any(A <= 0)"
   ]
  },
  {
   "cell_type": "code",
   "execution_count": null,
   "metadata": {
    "ExecuteTime": {
     "end_time": "2022-04-27T09:30:02.470586Z",
     "start_time": "2022-04-27T09:30:02.470574Z"
    }
   },
   "outputs": [],
   "source": [
    "A.max()"
   ]
  },
  {
   "cell_type": "code",
   "execution_count": null,
   "metadata": {
    "ExecuteTime": {
     "end_time": "2022-04-27T09:30:02.471577Z",
     "start_time": "2022-04-27T09:30:02.471567Z"
    }
   },
   "outputs": [],
   "source": [
    "A.max(axis=1)"
   ]
  },
  {
   "cell_type": "code",
   "execution_count": null,
   "metadata": {
    "ExecuteTime": {
     "end_time": "2022-04-27T09:30:02.472613Z",
     "start_time": "2022-04-27T09:30:02.472604Z"
    }
   },
   "outputs": [],
   "source": [
    "A.max(axis=0)"
   ]
  },
  {
   "cell_type": "code",
   "execution_count": 61,
   "metadata": {
    "ExecuteTime": {
     "end_time": "2022-04-27T09:30:02.479700Z",
     "start_time": "2022-04-27T09:30:02.476706Z"
    }
   },
   "outputs": [
    {
     "data": {
      "text/plain": [
       "1"
      ]
     },
     "execution_count": 61,
     "metadata": {},
     "output_type": "execute_result"
    }
   ],
   "source": [
    "A.min()"
   ]
  },
  {
   "cell_type": "code",
   "execution_count": 62,
   "metadata": {
    "ExecuteTime": {
     "end_time": "2022-04-27T09:30:02.483715Z",
     "start_time": "2022-04-27T09:30:02.480718Z"
    }
   },
   "outputs": [
    {
     "data": {
      "text/plain": [
       "array([1, 5])"
      ]
     },
     "execution_count": 62,
     "metadata": {},
     "output_type": "execute_result"
    }
   ],
   "source": [
    "A.min(axis=1)"
   ]
  },
  {
   "cell_type": "code",
   "execution_count": 63,
   "metadata": {
    "ExecuteTime": {
     "end_time": "2022-04-27T09:30:02.487451Z",
     "start_time": "2022-04-27T09:30:02.484709Z"
    }
   },
   "outputs": [
    {
     "data": {
      "text/plain": [
       "array([1, 2, 3, 4])"
      ]
     },
     "execution_count": 63,
     "metadata": {},
     "output_type": "execute_result"
    }
   ],
   "source": [
    "A.min(axis=0)"
   ]
  },
  {
   "cell_type": "code",
   "execution_count": 64,
   "metadata": {
    "ExecuteTime": {
     "end_time": "2022-04-27T09:30:02.495415Z",
     "start_time": "2022-04-27T09:30:02.490850Z"
    }
   },
   "outputs": [
    {
     "data": {
      "text/plain": [
       "4.5"
      ]
     },
     "execution_count": 64,
     "metadata": {},
     "output_type": "execute_result"
    }
   ],
   "source": [
    "A.mean()"
   ]
  },
  {
   "cell_type": "code",
   "execution_count": 65,
   "metadata": {
    "ExecuteTime": {
     "end_time": "2022-04-27T09:30:02.501623Z",
     "start_time": "2022-04-27T09:30:02.498327Z"
    }
   },
   "outputs": [
    {
     "data": {
      "text/plain": [
       "array([2.5, 6.5])"
      ]
     },
     "execution_count": 65,
     "metadata": {},
     "output_type": "execute_result"
    }
   ],
   "source": [
    "A.mean(axis=1)"
   ]
  },
  {
   "cell_type": "code",
   "execution_count": 66,
   "metadata": {
    "ExecuteTime": {
     "end_time": "2022-04-27T09:30:02.506994Z",
     "start_time": "2022-04-27T09:30:02.503052Z"
    }
   },
   "outputs": [
    {
     "data": {
      "text/plain": [
       "array([3., 4., 5., 6.])"
      ]
     },
     "execution_count": 66,
     "metadata": {},
     "output_type": "execute_result"
    }
   ],
   "source": [
    "A.mean(axis=0)"
   ]
  },
  {
   "cell_type": "code",
   "execution_count": 67,
   "metadata": {
    "ExecuteTime": {
     "end_time": "2022-04-27T09:30:02.511590Z",
     "start_time": "2022-04-27T09:30:02.508716Z"
    }
   },
   "outputs": [
    {
     "data": {
      "text/plain": [
       "2.29128784747792"
      ]
     },
     "execution_count": 67,
     "metadata": {},
     "output_type": "execute_result"
    }
   ],
   "source": [
    "A.std()"
   ]
  },
  {
   "cell_type": "code",
   "execution_count": 68,
   "metadata": {
    "ExecuteTime": {
     "end_time": "2022-04-27T09:30:02.515406Z",
     "start_time": "2022-04-27T09:30:02.512642Z"
    }
   },
   "outputs": [
    {
     "data": {
      "text/plain": [
       "array([1.11803399, 1.11803399])"
      ]
     },
     "execution_count": 68,
     "metadata": {},
     "output_type": "execute_result"
    }
   ],
   "source": [
    "A.std(axis=1)"
   ]
  },
  {
   "cell_type": "code",
   "execution_count": 69,
   "metadata": {
    "ExecuteTime": {
     "end_time": "2022-04-27T09:30:02.519212Z",
     "start_time": "2022-04-27T09:30:02.516352Z"
    }
   },
   "outputs": [
    {
     "data": {
      "text/plain": [
       "array([2., 2., 2., 2.])"
      ]
     },
     "execution_count": 69,
     "metadata": {},
     "output_type": "execute_result"
    }
   ],
   "source": [
    "A.std(axis=0)"
   ]
  },
  {
   "cell_type": "markdown",
   "metadata": {},
   "source": [
    "### Generating Random Numbers"
   ]
  },
  {
   "cell_type": "code",
   "execution_count": 70,
   "metadata": {
    "ExecuteTime": {
     "end_time": "2022-04-27T09:30:02.523033Z",
     "start_time": "2022-04-27T09:30:02.520282Z"
    },
    "scrolled": true
   },
   "outputs": [
    {
     "data": {
      "text/plain": [
       "array([[ 1.93519019,  0.45877226,  1.06374236, -0.02770264],\n",
       "       [ 0.07856257,  1.51447694,  0.81833443,  0.04327172],\n",
       "       [-0.88400054, -0.2032397 , -1.57503247,  1.00329942]])"
      ]
     },
     "execution_count": 70,
     "metadata": {},
     "output_type": "execute_result"
    }
   ],
   "source": [
    "# generate random number from standard normal distribution\n",
    "M_random = np.random.randn(3, 4)\n",
    "M_random"
   ]
  }
 ],
 "metadata": {
  "hide_input": false,
  "kernelspec": {
   "display_name": "Python 3 (ipykernel)",
   "language": "python",
   "name": "python3"
  },
  "language_info": {
   "codemirror_mode": {
    "name": "ipython",
    "version": 3
   },
   "file_extension": ".py",
   "mimetype": "text/x-python",
   "name": "python",
   "nbconvert_exporter": "python",
   "pygments_lexer": "ipython3",
   "version": "3.7.12"
  },
  "toc": {
   "base_numbering": 1,
   "nav_menu": {},
   "number_sections": true,
   "sideBar": true,
   "skip_h1_title": false,
   "title_cell": "Table of Contents",
   "title_sidebar": "Contents",
   "toc_cell": false,
   "toc_position": {},
   "toc_section_display": true,
   "toc_window_display": true
  }
 },
 "nbformat": 4,
 "nbformat_minor": 4
}
