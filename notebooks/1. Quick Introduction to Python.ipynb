{
 "cells": [
  {
   "cell_type": "markdown",
   "id": "3eefc852",
   "metadata": {},
   "source": [
    "# Introduction to Python\n",
    "In this notebook, we will cover just enough of the basics of python so that we can proceed with our other topics. Given the limitations of time, we will not cover all of what is considered basic. With that, it is advised that the reader will take another introductory course in Python in order to fully grasp the necessary topics. Recommended materials are listed at the bottom of this notebook."
   ]
  },
  {
   "cell_type": "markdown",
   "id": "063bf058",
   "metadata": {},
   "source": [
    "## Getting Started"
   ]
  },
  {
   "cell_type": "code",
   "execution_count": 1,
   "id": "6e6b37ae",
   "metadata": {
    "ExecuteTime": {
     "end_time": "2022-04-27T09:29:32.275997Z",
     "start_time": "2022-04-27T09:29:32.272640Z"
    }
   },
   "outputs": [
    {
     "name": "stdout",
     "output_type": "stream",
     "text": [
      "Hello World!\n"
     ]
    }
   ],
   "source": [
    "print(\"Hello World!\")"
   ]
  },
  {
   "cell_type": "markdown",
   "id": "d29ddda9",
   "metadata": {},
   "source": [
    "## Data Types and Operators"
   ]
  },
  {
   "cell_type": "markdown",
   "id": "bdd72582",
   "metadata": {},
   "source": [
    "### Data Types Numeric\n",
    "```Python\n",
    "int     # Integers\n",
    "float   # Floating point numbers - real numbers with decimals\n",
    "complex # Complex numbers of the form a + bj, where a and b are int/float values \n",
    "\n",
    "```\n",
    "### Arithmetic Operators\n",
    "\n",
    "`+` addition  \n",
    "`-` subtraction  \n",
    "`*` multiplication  \n",
    "`\\` division  \n",
    "`%` modulo division (gives the remainder after division)  \n",
    "`**` exponentiation  \n",
    "`//` floor division (divides and rounds down to nearest integer)\n",
    "\n",
    "<div class=\"alert alert-info\">\n",
    "Note:\n",
    "You can also use the parentheses `()` to structure your code.\n",
    "</div>"
   ]
  },
  {
   "cell_type": "code",
   "execution_count": 2,
   "id": "97564350",
   "metadata": {
    "ExecuteTime": {
     "end_time": "2022-04-27T09:29:32.280344Z",
     "start_time": "2022-04-27T09:29:32.277594Z"
    }
   },
   "outputs": [],
   "source": [
    "# explore arithmetic operators here"
   ]
  },
  {
   "cell_type": "markdown",
   "id": "05cfd987",
   "metadata": {},
   "source": [
    "### Assign Values to Variables\n",
    "a **variable** is used to hold a value.\n",
    "\n",
    "Example:\n",
    "```python\n",
    "pi = 3.14\n",
    "```\n",
    "\n",
    "In the example above, we assigned the value `3.14` to the variable named `pi`.\n",
    "\n",
    "**Reminders when deciding variable names**\n",
    "1. Only **alphanumeric** characters and underscores when creating a variable name\n",
    "2. Variable name can only begin with a letter or underscore but not an integer\n",
    "3. Do not use [reserved keywords](https://docs.python.org/3/reference/lexical_analysis.html#keywords) as variable names.\n",
    "4. The pythonic way of writing variable names are by using lowercase letters separated by underscores."
   ]
  },
  {
   "cell_type": "code",
   "execution_count": 3,
   "id": "c39fb8d1",
   "metadata": {
    "ExecuteTime": {
     "end_time": "2022-04-27T09:29:32.284393Z",
     "start_time": "2022-04-27T09:29:32.282489Z"
    }
   },
   "outputs": [],
   "source": [
    "# explore assigning variables here"
   ]
  },
  {
   "cell_type": "markdown",
   "id": "5ba8cb7f",
   "metadata": {},
   "source": [
    "<div class=\"alert alert-info\">\n",
    "Note:\n",
    "You can check the data type of a value/variable using the function <b>type()</b>. \n",
    "</div>"
   ]
  },
  {
   "cell_type": "markdown",
   "id": "6370e265",
   "metadata": {},
   "source": [
    "<div class=\"alert alert-warning\">\n",
    "Note:\n",
    "You can reassign a value to an existing variable. Just be mindful that once reassigned, you can no longer get the previous value.\n",
    "</div>"
   ]
  },
  {
   "cell_type": "markdown",
   "id": "ce3fa33d",
   "metadata": {},
   "source": [
    "### Boolean Data Types, Comparison Operators, and Logical Operations"
   ]
  },
  {
   "cell_type": "markdown",
   "id": "61f2483a",
   "metadata": {},
   "source": [
    "A boolean data type `bool` is a data type represented by either `True` or `False`."
   ]
  },
  {
   "cell_type": "code",
   "execution_count": 4,
   "id": "a3d936b9",
   "metadata": {
    "ExecuteTime": {
     "end_time": "2022-04-27T09:29:32.294720Z",
     "start_time": "2022-04-27T09:29:32.285880Z"
    }
   },
   "outputs": [
    {
     "data": {
      "text/plain": [
       "bool"
      ]
     },
     "execution_count": 4,
     "metadata": {},
     "output_type": "execute_result"
    }
   ],
   "source": [
    "type(True)"
   ]
  },
  {
   "cell_type": "code",
   "execution_count": 5,
   "id": "5513f779",
   "metadata": {
    "ExecuteTime": {
     "end_time": "2022-04-27T09:29:32.299025Z",
     "start_time": "2022-04-27T09:29:32.295987Z"
    }
   },
   "outputs": [
    {
     "data": {
      "text/plain": [
       "bool"
      ]
     },
     "execution_count": 5,
     "metadata": {},
     "output_type": "execute_result"
    }
   ],
   "source": [
    "type(False)"
   ]
  },
  {
   "cell_type": "markdown",
   "id": "15702f7f",
   "metadata": {},
   "source": [
    "#### Comparison Operators\n",
    "\n",
    "```Python\n",
    "<  # less than\n",
    ">  # greather than\n",
    "<= # less than or equal\n",
    ">= # greather than or equal\n",
    "== # equal to\n",
    "!= # not equal to\n",
    "```\n",
    "\n",
    "#### Logical Operators\n",
    "```Python\n",
    "and # evaluates if both statements are true\n",
    "or  # evaluates if any of the statements are true\n",
    "not # inverses a boolean type\n",
    "\n",
    "&   # alternative for and\n",
    "|   # alternative for or\n",
    "!   # alternative for not\n",
    "```"
   ]
  },
  {
   "cell_type": "markdown",
   "id": "1da7c8b1",
   "metadata": {},
   "source": [
    "### String Data Type and Operators\n",
    "Anything that is enclosed with `''`, `\"\"`, `''' '''`, or `\"\"\" \"\"\"`.\n",
    "\n",
    "<div class=\"alert alert-info\">\n",
    "Note:\n",
    "Double quoted strings can contain single quotes inside them and similarly, single quoted strings can contain double quoted strings inside them.\n",
    "</div>"
   ]
  },
  {
   "cell_type": "code",
   "execution_count": 6,
   "id": "7c02dded",
   "metadata": {
    "ExecuteTime": {
     "end_time": "2022-04-27T09:29:32.303180Z",
     "start_time": "2022-04-27T09:29:32.300358Z"
    }
   },
   "outputs": [],
   "source": [
    "# explore creating strings here"
   ]
  },
  {
   "cell_type": "markdown",
   "id": "9740a624",
   "metadata": {},
   "source": [
    "#### Concatenate Strings using +\n",
    "You can concatenate two strings using the `+` operator."
   ]
  },
  {
   "cell_type": "code",
   "execution_count": 7,
   "id": "ae15074e",
   "metadata": {
    "ExecuteTime": {
     "end_time": "2022-04-27T09:29:32.306046Z",
     "start_time": "2022-04-27T09:29:32.304368Z"
    }
   },
   "outputs": [],
   "source": [
    "# explore here"
   ]
  },
  {
   "cell_type": "markdown",
   "id": "9fe5f3fd",
   "metadata": {},
   "source": [
    "#### Repeat Strings using *\n",
    "You can also repeat a given string n number of times by doing:\n",
    "\n",
    "```Python\n",
    "string_variable * n\n",
    "```"
   ]
  },
  {
   "cell_type": "code",
   "execution_count": 8,
   "id": "7b1871a1",
   "metadata": {
    "ExecuteTime": {
     "end_time": "2022-04-27T09:29:32.308946Z",
     "start_time": "2022-04-27T09:29:32.307097Z"
    }
   },
   "outputs": [],
   "source": [
    "# explore it here"
   ]
  },
  {
   "cell_type": "markdown",
   "id": "cdaef437",
   "metadata": {},
   "source": [
    "#### Evaluate String Length using len()\n",
    "Another useful built-in function is `len()` which can be used to determine the length of the string."
   ]
  },
  {
   "cell_type": "code",
   "execution_count": 9,
   "id": "1747fdc9",
   "metadata": {
    "ExecuteTime": {
     "end_time": "2022-04-27T09:29:32.314238Z",
     "start_time": "2022-04-27T09:29:32.312473Z"
    }
   },
   "outputs": [],
   "source": [
    "# explore it here"
   ]
  },
  {
   "cell_type": "markdown",
   "id": "120649d0",
   "metadata": {},
   "source": [
    "#### String Indexing and Slicing\n",
    "\n",
    "You can access specific characters or substring in a string using indexing."
   ]
  },
  {
   "cell_type": "code",
   "execution_count": 10,
   "id": "d824d550",
   "metadata": {
    "ExecuteTime": {
     "end_time": "2022-04-27T09:29:32.316939Z",
     "start_time": "2022-04-27T09:29:32.315327Z"
    }
   },
   "outputs": [],
   "source": [
    "sample_string = \"This is a sample string\""
   ]
  },
  {
   "cell_type": "code",
   "execution_count": 11,
   "id": "ba66d91b",
   "metadata": {
    "ExecuteTime": {
     "end_time": "2022-04-27T09:29:32.320487Z",
     "start_time": "2022-04-27T09:29:32.317877Z"
    }
   },
   "outputs": [
    {
     "data": {
      "text/plain": [
       "'T'"
      ]
     },
     "execution_count": 11,
     "metadata": {},
     "output_type": "execute_result"
    }
   ],
   "source": [
    "sample_string[0]"
   ]
  },
  {
   "cell_type": "code",
   "execution_count": 12,
   "id": "46b7be9c",
   "metadata": {
    "ExecuteTime": {
     "end_time": "2022-04-27T09:29:32.324018Z",
     "start_time": "2022-04-27T09:29:32.321535Z"
    }
   },
   "outputs": [
    {
     "data": {
      "text/plain": [
       "'This'"
      ]
     },
     "execution_count": 12,
     "metadata": {},
     "output_type": "execute_result"
    }
   ],
   "source": [
    "sample_string[:4]"
   ]
  },
  {
   "cell_type": "code",
   "execution_count": 13,
   "id": "73a8304f",
   "metadata": {
    "ExecuteTime": {
     "end_time": "2022-04-27T09:29:32.328838Z",
     "start_time": "2022-04-27T09:29:32.325026Z"
    }
   },
   "outputs": [
    {
     "data": {
      "text/plain": [
       "'his'"
      ]
     },
     "execution_count": 13,
     "metadata": {},
     "output_type": "execute_result"
    }
   ],
   "source": [
    "sample_string[1:4]"
   ]
  },
  {
   "cell_type": "code",
   "execution_count": 14,
   "id": "3c6ca4d1",
   "metadata": {
    "ExecuteTime": {
     "end_time": "2022-04-27T09:29:32.332705Z",
     "start_time": "2022-04-27T09:29:32.329825Z"
    },
    "hide_input": false
   },
   "outputs": [
    {
     "data": {
      "text/plain": [
       "' is a sample string'"
      ]
     },
     "execution_count": 14,
     "metadata": {},
     "output_type": "execute_result"
    }
   ],
   "source": [
    "sample_string[4:]"
   ]
  },
  {
   "cell_type": "markdown",
   "id": "e98bf4d3",
   "metadata": {},
   "source": [
    "#### One more thing about strings"
   ]
  },
  {
   "cell_type": "markdown",
   "id": "83c7c35f",
   "metadata": {},
   "source": [
    "While we won't cover it here in this tutorial, there other string methods that you can explore [here](https://www.w3schools.com/python/python_ref_string.asp)."
   ]
  },
  {
   "cell_type": "markdown",
   "id": "eb253306",
   "metadata": {},
   "source": [
    "## Defining Functions\n",
    "Earlier, we have seen some *built-in functions*: `print()`, `type()`, and `len()`.\n",
    "\n",
    "We noticed that the way these functions work is that:\n",
    "1. We provide an **input**.\n",
    "2. Then, the function **returns** some result.\n",
    "\n",
    "The basic syntax of a function looks like this:\n",
    "\n",
    "```Python\n",
    "def function_name(parameter1, parameter2, ...):\n",
    "    statements\n",
    "    return result\n",
    "```"
   ]
  },
  {
   "cell_type": "code",
   "execution_count": 15,
   "id": "4361414f",
   "metadata": {
    "ExecuteTime": {
     "end_time": "2022-04-27T09:29:32.335851Z",
     "start_time": "2022-04-27T09:29:32.333879Z"
    }
   },
   "outputs": [],
   "source": [
    "# example: a function for adding two numbers\n",
    "def add(a, b):\n",
    "    sum_ = a + b\n",
    "    return sum_"
   ]
  },
  {
   "cell_type": "code",
   "execution_count": 16,
   "id": "0e4c9eca",
   "metadata": {
    "ExecuteTime": {
     "end_time": "2022-04-27T09:29:32.339752Z",
     "start_time": "2022-04-27T09:29:32.336903Z"
    }
   },
   "outputs": [
    {
     "data": {
      "text/plain": [
       "9"
      ]
     },
     "execution_count": 16,
     "metadata": {},
     "output_type": "execute_result"
    }
   ],
   "source": [
    "add(3, 6)"
   ]
  },
  {
   "cell_type": "markdown",
   "id": "67b4bb2b",
   "metadata": {},
   "source": [
    "<div class=\"alert alert-success\">\n",
    "Exercise: Create a function that takes in two parameters N and D, and returns the remainder R when N is divided by D.\n",
    "</div>"
   ]
  },
  {
   "cell_type": "code",
   "execution_count": null,
   "id": "209e07a2",
   "metadata": {},
   "outputs": [],
   "source": []
  },
  {
   "cell_type": "markdown",
   "id": "f21c5169",
   "metadata": {},
   "source": [
    "<div class=\"alert alert-success\">\n",
    "Exercise: Create a function and name it <i>linear_function</i> that takes in three parameters x, m, and b, and returns the result of m*x + b.\n",
    "</div>"
   ]
  },
  {
   "cell_type": "code",
   "execution_count": null,
   "id": "a2544fe1",
   "metadata": {},
   "outputs": [],
   "source": []
  },
  {
   "cell_type": "markdown",
   "id": "119ca52e",
   "metadata": {},
   "source": [
    "<div class=\"alert alert-success\">\n",
    "Exercise: Create a function that takes in two parameters n and d, and returns true if d divides n and returns false otherwise.\n",
    "</div>"
   ]
  },
  {
   "cell_type": "code",
   "execution_count": null,
   "id": "e8d2d4f8",
   "metadata": {},
   "outputs": [],
   "source": []
  },
  {
   "cell_type": "markdown",
   "id": "9cba348e",
   "metadata": {},
   "source": [
    "<div class=\"alert alert-warning\">\n",
    "<b>Discuss</b>. Why do we need to create functions in programming?\n",
    "</div>"
   ]
  },
  {
   "cell_type": "markdown",
   "id": "4ba5d700",
   "metadata": {},
   "source": [
    "## Basic Data Structures"
   ]
  },
  {
   "cell_type": "markdown",
   "id": "e6aeed82",
   "metadata": {},
   "source": [
    "### Lists\n",
    "\n",
    "A Python list is an ordered list of objects, enclosed in square brackets `[]`."
   ]
  },
  {
   "cell_type": "code",
   "execution_count": 17,
   "id": "12f50149",
   "metadata": {
    "ExecuteTime": {
     "end_time": "2022-04-27T09:29:32.343694Z",
     "start_time": "2022-04-27T09:29:32.341001Z"
    }
   },
   "outputs": [],
   "source": [
    "list1 = [1, 2] # a list of two numbers\n",
    "list2 = ['a', 'b', 'c'] # a list of three strings\n",
    "list3 = [1, 1, 2] # a list can contain the same values\n",
    "list4 = ['a', 1, 3, 4 + 3j] # a list can contain different data types"
   ]
  },
  {
   "cell_type": "markdown",
   "id": "0ba3009a",
   "metadata": {},
   "source": [
    "#### Indexing and Slicing Lists\n",
    "Similar to string indexing, Python lists also support indexing"
   ]
  },
  {
   "cell_type": "code",
   "execution_count": 18,
   "id": "fc1ebe5a",
   "metadata": {
    "ExecuteTime": {
     "end_time": "2022-04-27T09:29:32.348218Z",
     "start_time": "2022-04-27T09:29:32.345461Z"
    }
   },
   "outputs": [
    {
     "data": {
      "text/plain": [
       "1"
      ]
     },
     "execution_count": 18,
     "metadata": {},
     "output_type": "execute_result"
    }
   ],
   "source": [
    "list4[1] # get the element of the list in the second index"
   ]
  },
  {
   "cell_type": "code",
   "execution_count": 19,
   "id": "8fa7dd7c",
   "metadata": {
    "ExecuteTime": {
     "end_time": "2022-04-27T09:29:32.351867Z",
     "start_time": "2022-04-27T09:29:32.349279Z"
    }
   },
   "outputs": [
    {
     "data": {
      "text/plain": [
       "[1, 3, (4+3j)]"
      ]
     },
     "execution_count": 19,
     "metadata": {},
     "output_type": "execute_result"
    }
   ],
   "source": [
    "list4[1:4] # get a slice of the list starting from index 1 until index 4"
   ]
  },
  {
   "cell_type": "code",
   "execution_count": 20,
   "id": "00a029cb",
   "metadata": {
    "ExecuteTime": {
     "end_time": "2022-04-27T09:29:32.356403Z",
     "start_time": "2022-04-27T09:29:32.352887Z"
    }
   },
   "outputs": [
    {
     "data": {
      "text/plain": [
       "(4+3j)"
      ]
     },
     "execution_count": 20,
     "metadata": {},
     "output_type": "execute_result"
    }
   ],
   "source": [
    "list4[-1] # you can also index backwards"
   ]
  },
  {
   "cell_type": "markdown",
   "id": "1d8d2fbe",
   "metadata": {},
   "source": [
    "#### Membership Operators: in or not in\n",
    "\n",
    "You can check if an element is in the list or not using either `in` or `not in`."
   ]
  },
  {
   "cell_type": "code",
   "execution_count": 21,
   "id": "ca357d9f",
   "metadata": {
    "ExecuteTime": {
     "end_time": "2022-04-27T09:29:32.360198Z",
     "start_time": "2022-04-27T09:29:32.357471Z"
    }
   },
   "outputs": [
    {
     "data": {
      "text/plain": [
       "True"
      ]
     },
     "execution_count": 21,
     "metadata": {},
     "output_type": "execute_result"
    }
   ],
   "source": [
    "1 in list4"
   ]
  },
  {
   "cell_type": "code",
   "execution_count": 22,
   "id": "5f3870be",
   "metadata": {
    "ExecuteTime": {
     "end_time": "2022-04-27T09:29:32.363917Z",
     "start_time": "2022-04-27T09:29:32.361349Z"
    }
   },
   "outputs": [
    {
     "data": {
      "text/plain": [
       "False"
      ]
     },
     "execution_count": 22,
     "metadata": {},
     "output_type": "execute_result"
    }
   ],
   "source": [
    "2 in list4"
   ]
  },
  {
   "cell_type": "code",
   "execution_count": 23,
   "id": "6960bc02",
   "metadata": {
    "ExecuteTime": {
     "end_time": "2022-04-27T09:29:32.367681Z",
     "start_time": "2022-04-27T09:29:32.365033Z"
    }
   },
   "outputs": [
    {
     "data": {
      "text/plain": [
       "True"
      ]
     },
     "execution_count": 23,
     "metadata": {},
     "output_type": "execute_result"
    }
   ],
   "source": [
    "2 not in list4"
   ]
  },
  {
   "cell_type": "markdown",
   "id": "085a29b9",
   "metadata": {},
   "source": [
    "#### Check length of list\n",
    "\n",
    "You can check the length of a list using the `len()` function."
   ]
  },
  {
   "cell_type": "code",
   "execution_count": 24,
   "id": "ca365715",
   "metadata": {
    "ExecuteTime": {
     "end_time": "2022-04-27T09:29:32.372295Z",
     "start_time": "2022-04-27T09:29:32.369099Z"
    }
   },
   "outputs": [
    {
     "data": {
      "text/plain": [
       "4"
      ]
     },
     "execution_count": 24,
     "metadata": {},
     "output_type": "execute_result"
    }
   ],
   "source": [
    "len(list4)"
   ]
  },
  {
   "cell_type": "markdown",
   "id": "342f76e3",
   "metadata": {},
   "source": [
    "#### Sort list\n",
    "You can sort a list using the `sort()` function."
   ]
  },
  {
   "cell_type": "code",
   "execution_count": 25,
   "id": "66a4ea6e",
   "metadata": {
    "ExecuteTime": {
     "end_time": "2022-04-27T09:29:32.377476Z",
     "start_time": "2022-04-27T09:29:32.373534Z"
    }
   },
   "outputs": [
    {
     "data": {
      "text/plain": [
       "['a', 'e', 'b', 'c']"
      ]
     },
     "execution_count": 25,
     "metadata": {},
     "output_type": "execute_result"
    }
   ],
   "source": [
    "list_a = ['a', 'e', 'b', 'c']\n",
    "list_a"
   ]
  },
  {
   "cell_type": "code",
   "execution_count": 26,
   "id": "511c1825",
   "metadata": {
    "ExecuteTime": {
     "end_time": "2022-04-27T09:29:32.381182Z",
     "start_time": "2022-04-27T09:29:32.378575Z"
    }
   },
   "outputs": [
    {
     "data": {
      "text/plain": [
       "['a', 'b', 'c', 'e']"
      ]
     },
     "execution_count": 26,
     "metadata": {},
     "output_type": "execute_result"
    }
   ],
   "source": [
    "sorted(list_a)"
   ]
  },
  {
   "cell_type": "markdown",
   "id": "54d59ad9",
   "metadata": {},
   "source": [
    "#### Concatenate Lists using +"
   ]
  },
  {
   "cell_type": "code",
   "execution_count": 27,
   "id": "d860bb14",
   "metadata": {
    "ExecuteTime": {
     "end_time": "2022-04-27T09:29:32.387708Z",
     "start_time": "2022-04-27T09:29:32.385512Z"
    }
   },
   "outputs": [
    {
     "name": "stdout",
     "output_type": "stream",
     "text": [
      "[1, 2]\n",
      "['a', 'b', 'c']\n",
      "[1, 2, 'a', 'b', 'c']\n"
     ]
    }
   ],
   "source": [
    "print(list1)\n",
    "print(list2)\n",
    "print(list1 + list2)"
   ]
  },
  {
   "cell_type": "markdown",
   "id": "5631dd2c",
   "metadata": {},
   "source": [
    "#### Generate a list of consecute numbers using range()"
   ]
  },
  {
   "cell_type": "code",
   "execution_count": 28,
   "id": "85aacac8",
   "metadata": {
    "ExecuteTime": {
     "end_time": "2022-04-27T09:29:32.391143Z",
     "start_time": "2022-04-27T09:29:32.388762Z"
    }
   },
   "outputs": [
    {
     "data": {
      "text/plain": [
       "[0, 1, 2, 3, 4]"
      ]
     },
     "execution_count": 28,
     "metadata": {},
     "output_type": "execute_result"
    }
   ],
   "source": [
    "list(range(5))"
   ]
  },
  {
   "cell_type": "code",
   "execution_count": 29,
   "id": "b9ebee11",
   "metadata": {
    "ExecuteTime": {
     "end_time": "2022-04-27T09:29:32.394936Z",
     "start_time": "2022-04-27T09:29:32.392205Z"
    }
   },
   "outputs": [
    {
     "data": {
      "text/plain": [
       "[1, 2, 3, 4, 5, 6, 7, 8, 9]"
      ]
     },
     "execution_count": 29,
     "metadata": {},
     "output_type": "execute_result"
    }
   ],
   "source": [
    "list(range(1, 10))"
   ]
  },
  {
   "cell_type": "code",
   "execution_count": 30,
   "id": "0c7ebb1f",
   "metadata": {
    "ExecuteTime": {
     "end_time": "2022-04-27T09:29:32.399712Z",
     "start_time": "2022-04-27T09:29:32.396026Z"
    }
   },
   "outputs": [
    {
     "data": {
      "text/plain": [
       "[1, 3, 5, 7, 9]"
      ]
     },
     "execution_count": 30,
     "metadata": {},
     "output_type": "execute_result"
    }
   ],
   "source": [
    "list(range(1, 10, 2))"
   ]
  },
  {
   "cell_type": "code",
   "execution_count": 31,
   "id": "5d037375",
   "metadata": {
    "ExecuteTime": {
     "end_time": "2022-04-27T09:29:32.403471Z",
     "start_time": "2022-04-27T09:29:32.400791Z"
    }
   },
   "outputs": [
    {
     "data": {
      "text/plain": [
       "[10, 9, 8, 7, 6, 5, 4, 3, 2]"
      ]
     },
     "execution_count": 31,
     "metadata": {},
     "output_type": "execute_result"
    }
   ],
   "source": [
    "list(range(10, 1, -1))"
   ]
  },
  {
   "cell_type": "code",
   "execution_count": 32,
   "id": "4654ee2f",
   "metadata": {
    "ExecuteTime": {
     "end_time": "2022-04-27T09:29:32.406179Z",
     "start_time": "2022-04-27T09:29:32.404572Z"
    }
   },
   "outputs": [],
   "source": [
    "# explore list comprehensions here"
   ]
  },
  {
   "cell_type": "markdown",
   "id": "48a033c8",
   "metadata": {
    "hide_input": false
   },
   "source": [
    "## Control Flow\n",
    "\n",
    "In this section, we will cover conditional statements, loops, and comprehensions."
   ]
  },
  {
   "cell_type": "markdown",
   "id": "8af5af9b",
   "metadata": {},
   "source": [
    "### Conditional Statements\n",
    "\n",
    "Conditional statements are common both in mathematics and programming. In math, we have piecewise functions such as:\n",
    "\n",
    "$$f(x) = \\left\\{\n",
    "\\begin{array}{ll}\n",
    "      x & \\text{if } x\\geq 0 \\\\\n",
    "      0 & \\text{otherwise} \\\\\n",
    "\\end{array} \n",
    "\\right.\n",
    "$$\n",
    "\n",
    "In pseudocode:\n",
    "```Python\n",
    "if x >= 0, then x\n",
    "else, 0\n",
    "```\n",
    "\n",
    "In python:\n",
    "```Python\n",
    "def f(x):\n",
    "    if x >= 0:\n",
    "        return x\n",
    "    else:\n",
    "        return 0\n",
    "```\n",
    "\n",
    "We just used the `if-else` statement in python. In general, conditional statements in python could be any of the following formats:\n",
    "\n",
    "```Python\n",
    "# if statement\n",
    "if condition:\n",
    "    statement\n",
    "    \n",
    "# if-else statement\n",
    "if condition:\n",
    "    statement1\n",
    "else:\n",
    "    statement2\n",
    "    \n",
    "# if-elif-else statement\n",
    "if condition1:\n",
    "    statement1\n",
    "elif condition2:\n",
    "    statement2:\n",
    "...\n",
    "elif condition_n_minus_1:\n",
    "    statement_n_minus_1\n",
    "else:\n",
    "    statement_n\n",
    "```"
   ]
  },
  {
   "cell_type": "code",
   "execution_count": 33,
   "id": "19e93109",
   "metadata": {
    "ExecuteTime": {
     "end_time": "2022-04-27T09:29:32.409858Z",
     "start_time": "2022-04-27T09:29:32.407135Z"
    }
   },
   "outputs": [
    {
     "data": {
      "text/plain": [
       "'\\nType in `teacher`, if you are a teacher. \\nAnd if you were a student, you type `student`, as well as indicate your year level.\\n'"
      ]
     },
     "execution_count": 33,
     "metadata": {},
     "output_type": "execute_result"
    }
   ],
   "source": [
    "# example\n",
    "\"\"\"\n",
    "Type in `teacher`, if you are a teacher. \n",
    "And if you were a student, you type `student`, as well as indicate your year level.\n",
    "\"\"\""
   ]
  },
  {
   "cell_type": "markdown",
   "id": "750542ee",
   "metadata": {},
   "source": [
    "<div class=\"alert alert-success\">\n",
    "Exercise: Create a function takes in an input variable n and prints \"Even!\" if the n is even and prints \"Odd!\" otherwise.\n",
    "</div>"
   ]
  },
  {
   "cell_type": "markdown",
   "id": "509d7890",
   "metadata": {},
   "source": [
    "### For Loops\n",
    "\n",
    "The idea of loops is simple, you have to loop over or iterate over a certain piece of code for a certain number of times.\n",
    "\n",
    "Let's take a look at an example to get the gist of the for loop.\n",
    "\n",
    "```Python\n",
    "for i in range(1, 5):\n",
    "    print(i)\n",
    "```\n",
    "Can you guess what this function does?"
   ]
  },
  {
   "cell_type": "code",
   "execution_count": null,
   "id": "8cf7f9eb",
   "metadata": {},
   "outputs": [],
   "source": []
  },
  {
   "cell_type": "markdown",
   "id": "8bf3c4a5",
   "metadata": {},
   "source": [
    "In the code above, we shown two new concepts namely `for` and `range()`.\n",
    "\n",
    "`range()` is another built-in function that is used to generate an iterator. The first value is the starting value of the iteration while the second one is the upper value which is not included.\n",
    "\n",
    "In English, the code above can be translated as:\n",
    "\n",
    "`\"Display values from 1 to 4\"`"
   ]
  },
  {
   "cell_type": "code",
   "execution_count": 34,
   "id": "1fb8efdf",
   "metadata": {
    "ExecuteTime": {
     "end_time": "2022-04-27T09:29:32.412501Z",
     "start_time": "2022-04-27T09:29:32.410967Z"
    }
   },
   "outputs": [],
   "source": [
    "# Example: Summation from 1 to n"
   ]
  },
  {
   "cell_type": "markdown",
   "id": "1df81efe",
   "metadata": {},
   "source": [
    "<div class=\"alert alert-success\">\n",
    "Exercise: Create a function <b>factorial</b> that takes in a parameter n and returns the product from 1 to n.\n",
    "</div>"
   ]
  },
  {
   "cell_type": "markdown",
   "id": "9ef7b499",
   "metadata": {},
   "source": [
    "### List Comprehensions\n",
    "List comprehensions is a convenient way to generate lists. \n",
    "\n",
    "Let's look at the example below first and discuss the syntax afterwards."
   ]
  },
  {
   "cell_type": "code",
   "execution_count": 35,
   "id": "7baceac8",
   "metadata": {
    "ExecuteTime": {
     "end_time": "2022-04-27T09:29:32.416816Z",
     "start_time": "2022-04-27T09:29:32.413728Z"
    }
   },
   "outputs": [
    {
     "data": {
      "text/plain": [
       "[0, 2, 4, 6, 8, 10, 12, 14, 16, 18]"
      ]
     },
     "execution_count": 35,
     "metadata": {},
     "output_type": "execute_result"
    }
   ],
   "source": [
    "# list of even numbers below 20\n",
    "evens_below_20 = [2*k for k in range(10)]\n",
    "evens_below_20"
   ]
  },
  {
   "cell_type": "markdown",
   "id": "28ade7cc",
   "metadata": {},
   "source": [
    "In the example above, we generated a list of even numbers below 20. Notice that this is very similar to set notations.\n",
    "\n",
    "$L_2 = \\{2x; x \\in L\\}$\n",
    "\n",
    "In python, the syntax is given by:\n",
    "```Python\n",
    "[expression for variable in iterable]\n",
    "```"
   ]
  },
  {
   "cell_type": "markdown",
   "id": "bce611eb",
   "metadata": {},
   "source": [
    "## Creating .py scripts\n",
    "\n",
    "Creating python scripts is another way to organize our code. We already learned how to create functions earlier. Now, we can store functions in a *python script* so that we can reuse them later on in another notebook.\n",
    "\n",
    "\n",
    "Currently, we structured our jupyter folder in this way:\n",
    "\n",
    "```\n",
    "notebooks/\n",
    "-- Quick Introduction to Python.ipynb\n",
    "-- Another notebook.ipynb\n",
    "```\n",
    "\n",
    "Now, to make our directory organized, we can add a folder for scripts. Our directory will now look like:\n",
    "```\n",
    "notebooks/\n",
    "-- Quick Introduction to Python.ipynb\n",
    "-- Another notebook.ipynb\n",
    "\n",
    "scripts/\n",
    "-- math_models.py\n",
    "-- plotting.py\n",
    "-- utils.py\n",
    "```\n",
    "\n",
    "This way, we can keep our jupyter notebooks together and keep our python scripts together. Doesn't that spark joy?\n",
    "\n",
    "Then, to access the scripts we create, type in the following:\n",
    "```Python\n",
    "import sys\n",
    "sys.path.append('..')\n",
    "```\n",
    "\n",
    "This command locates the directory of our python scripts.\n",
    "\n",
    "Afterwards, we can now do the following:\n",
    "```Python\n",
    "from scripts.script_name import function_name\n",
    "```"
   ]
  },
  {
   "cell_type": "markdown",
   "id": "7687f3cb",
   "metadata": {},
   "source": [
    "## Before We End\n",
    "We covered a lot during this introduction. However, we've only learned the basics. You can continue learning using online resources. I've added a couple of free resources that you can use. If you have specific issues while learning, you can search about it online and more often than not, there's already an answer for your question.\n",
    "\n",
    "<div class=\"alert alert-info\">\n",
    "Note:\n",
    "In the modern day, being able to quickly find the answers online is a necessary skill.\n",
    "</div>\n",
    "\n",
    "### Free Online Courses:\n",
    "1. [Introduction to Python Programming (Udacity)](https://classroom.udacity.com/courses/ud1110/)\n",
    "2. [Python (Kaggle)](https://www.kaggle.com/learn/python)\n",
    "3. [CS50's Introduction to Programming with Python (Edx)](https://www.edx.org/course/cs50s-introduction-to-programming-with-python?index=product&queryID=de7b25e89bfc3736c2baaaba9b495cf2&position=1)\n",
    "4. [Python for Everybody (Coursera)](https://www.coursera.org/specializations/python)\n",
    "5. [Learn Python - Full Course for Beginners [Tutorial] (Youtube)](https://www.youtube.com/watch?v=rfscVS0vtbw)"
   ]
  }
 ],
 "metadata": {
  "kernelspec": {
   "display_name": "Python 3 (ipykernel)",
   "language": "python",
   "name": "python3"
  },
  "language_info": {
   "codemirror_mode": {
    "name": "ipython",
    "version": 3
   },
   "file_extension": ".py",
   "mimetype": "text/x-python",
   "name": "python",
   "nbconvert_exporter": "python",
   "pygments_lexer": "ipython3",
   "version": "3.7.12"
  },
  "toc": {
   "base_numbering": 1,
   "nav_menu": {},
   "number_sections": true,
   "sideBar": true,
   "skip_h1_title": false,
   "title_cell": "Table of Contents",
   "title_sidebar": "Contents",
   "toc_cell": false,
   "toc_position": {
    "height": "calc(100% - 180px)",
    "left": "10px",
    "top": "150px",
    "width": "287px"
   },
   "toc_section_display": true,
   "toc_window_display": true
  }
 },
 "nbformat": 4,
 "nbformat_minor": 5
}
