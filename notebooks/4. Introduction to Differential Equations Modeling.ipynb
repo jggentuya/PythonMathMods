{
 "cells": [
  {
   "cell_type": "markdown",
   "id": "903e35e5",
   "metadata": {},
   "source": [
    "# ODE Modeling in Python\n",
    "In the previous notebook, we discussed how to find the best parameters given a function, initial parameter guesses, and data. In this notebook, we will learn how to solve ordinary differential equations (ODE) models and even find numerical solutions to fit the model to existing data."
   ]
  },
  {
   "cell_type": "code",
   "execution_count": 1,
   "id": "e35c3a7f",
   "metadata": {
    "ExecuteTime": {
     "end_time": "2022-04-27T09:31:25.789051Z",
     "start_time": "2022-04-27T09:31:24.820767Z"
    }
   },
   "outputs": [],
   "source": [
    "import numpy as np\n",
    "import pandas as pd\n",
    "import matplotlib.pyplot as plt\n",
    "\n",
    "from scipy.integrate import odeint\n",
    "from lmfit import Model"
   ]
  },
  {
   "cell_type": "markdown",
   "id": "3d4f21f7",
   "metadata": {},
   "source": [
    "## A Simple ODE\n",
    "Suppose that we know the concentration of a substance A follows the following differential equation:\n",
    "\n",
    "$$\\frac{dC_{A}}{dt} = -kC_{A}$$\n",
    "\n",
    "Moreover, we have the data for the concentration of A at various timepoints t. Notice that we can easily solve this ODE analytically to come up with a function $C_A(k, t)$. However, we will solve this numerically to provide us with an intuition on how to solve ODEs and fitting them using data.\n",
    "\n",
    "Source:\n",
    "[Kitchin Research Group](https://kitchingroup.cheme.cmu.edu/blog/2013/02/18/Fitting-a-numerical-ODE-solution-to-data/)"
   ]
  },
  {
   "cell_type": "markdown",
   "id": "926faddb",
   "metadata": {
    "ExecuteTime": {
     "end_time": "2022-04-25T16:35:35.935921Z",
     "start_time": "2022-04-25T16:35:35.925364Z"
    }
   },
   "source": [
    "### Data"
   ]
  },
  {
   "cell_type": "code",
   "execution_count": 2,
   "id": "e6f832d4",
   "metadata": {
    "ExecuteTime": {
     "end_time": "2022-04-27T09:31:25.792204Z",
     "start_time": "2022-04-27T09:31:25.790314Z"
    }
   },
   "outputs": [],
   "source": [
    "t = [0, 0.1, 0.2, 0.4, 0.8, 1]\n",
    "Ca_data = [2.0081,  1.5512,  1.1903,  0.7160,  0.2562,  0.1495]"
   ]
  },
  {
   "cell_type": "markdown",
   "id": "75962010",
   "metadata": {},
   "source": [
    "### Visualize the Data"
   ]
  },
  {
   "cell_type": "code",
   "execution_count": 3,
   "id": "859576c6",
   "metadata": {
    "ExecuteTime": {
     "end_time": "2022-04-27T09:31:25.875617Z",
     "start_time": "2022-04-27T09:31:25.793123Z"
    }
   },
   "outputs": [
    {
     "data": {
      "text/plain": [
       "<matplotlib.collections.PathCollection at 0x7f7949edd050>"
      ]
     },
     "execution_count": 3,
     "metadata": {},
     "output_type": "execute_result"
    },
    {
     "data": {
      "image/png": "[encoded data removed]",
      "text/plain": [
       "<Figure size 432x288 with 1 Axes>"
      ]
     },
     "metadata": {
      "needs_background": "light"
     },
     "output_type": "display_data"
    }
   ],
   "source": [
    "plt.scatter(t, Ca_data)"
   ]
  },
  {
   "cell_type": "markdown",
   "id": "034704af",
   "metadata": {},
   "source": [
    "### Define the Function"
   ]
  },
  {
   "cell_type": "code",
   "execution_count": 4,
   "id": "3cc8db9b",
   "metadata": {
    "ExecuteTime": {
     "end_time": "2022-04-27T09:31:25.880106Z",
     "start_time": "2022-04-27T09:31:25.877321Z"
    }
   },
   "outputs": [],
   "source": [
    "def concentration_func(t, k):\n",
    "    \"Function that returns Ca computed from our ODE for an instance of k\"\n",
    "    # define the ODE\n",
    "    def ode_func(Ca, t):\n",
    "        return -k * Ca\n",
    "    \n",
    "    # set initial value(s)\n",
    "    Ca_init = Ca_data[0]\n",
    "    \n",
    "    # find numerical solution to ode\n",
    "    Ca_soln = odeint(ode_func, Ca_init, t)\n",
    "    \n",
    "    return Ca_soln[:,0]"
   ]
  },
  {
   "cell_type": "markdown",
   "id": "8174522c",
   "metadata": {},
   "source": [
    "### Set Initial Parameter Value(s)"
   ]
  },
  {
   "cell_type": "code",
   "execution_count": 5,
   "id": "a052d3d1",
   "metadata": {
    "ExecuteTime": {
     "end_time": "2022-04-27T09:31:25.883211Z",
     "start_time": "2022-04-27T09:31:25.881288Z"
    }
   },
   "outputs": [],
   "source": [
    "k_init = 1"
   ]
  },
  {
   "cell_type": "markdown",
   "id": "c53f10d6",
   "metadata": {},
   "source": [
    "### Plot Initial Curve"
   ]
  },
  {
   "cell_type": "code",
   "execution_count": 6,
   "id": "c40ca77c",
   "metadata": {
    "ExecuteTime": {
     "end_time": "2022-04-27T09:31:25.973708Z",
     "start_time": "2022-04-27T09:31:25.884334Z"
    }
   },
   "outputs": [
    {
     "data": {
      "image/png": "[encoded data removed]",
      "text/plain": [
       "<Figure size 576x360 with 1 Axes>"
      ]
     },
     "metadata": {
      "needs_background": "light"
     },
     "output_type": "display_data"
    }
   ],
   "source": [
    "fig, ax = plt.subplots(figsize=(8, 5))\n",
    "\n",
    "# initial curve\n",
    "curve_init = concentration_func(t, k_init)\n",
    "\n",
    "ax.scatter(t, Ca_data, label='data')\n",
    "ax.plot(t, curve_init, label='Initial Curve', linestyle='--', color='orange')\n",
    "ax.set_xlabel('t')\n",
    "ax.set_ylabel('Concentration of A')\n",
    "ax.legend();"
   ]
  },
  {
   "cell_type": "markdown",
   "id": "13199596",
   "metadata": {},
   "source": [
    "### Determine Best Fit Curve"
   ]
  },
  {
   "cell_type": "code",
   "execution_count": 7,
   "id": "a14883e0",
   "metadata": {
    "ExecuteTime": {
     "end_time": "2022-04-27T09:31:25.982467Z",
     "start_time": "2022-04-27T09:31:25.974772Z"
    }
   },
   "outputs": [],
   "source": [
    "model = Model(concentration_func)\n",
    "result = model.fit(Ca_data, t=t, k=k_init)"
   ]
  },
  {
   "cell_type": "code",
   "execution_count": 8,
   "id": "920dc0d2",
   "metadata": {
    "ExecuteTime": {
     "end_time": "2022-04-27T09:31:25.986699Z",
     "start_time": "2022-04-27T09:31:25.983670Z"
    }
   },
   "outputs": [
    {
     "data": {
      "text/html": [
       "<h2> Model</h2> Model(concentration_func) <h2>Fit Statistics</h2><table><tr><td>fitting method</td><td>leastsq</td><td></td></tr><tr><td># function evals</td><td>11</td><td></td></tr><tr><td># data points</td><td>6</td><td></td></tr><tr><td># variables</td><td>1</td><td></td></tr><tr><td>chi-square</td><td> 6.0539e-05</td><td></td></tr><tr><td>reduced chi-square</td><td> 1.2108e-05</td><td></td></tr><tr><td>Akaike info crit.</td><td>-67.0239239</td><td></td></tr><tr><td>Bayesian info crit.</td><td>-67.2321645</td><td></td></tr></table><h2>Variables</h2><table><tr><th> name </th><th> value </th><th> standard error </th><th> relative error </th><th> initial value </th><th> min </th><th> max </th><th> vary </th></tr><tr><td> k </td><td>  2.58893455 </td><td>  0.00731368 </td><td> (0.28%) </td><td> 1 </td><td>        -inf </td><td>         inf </td><td> True </td></tr></table>"
      ],
      "text/plain": [
       "<lmfit.model.ModelResult at 0x7f7929d84190>"
      ]
     },
     "execution_count": 8,
     "metadata": {},
     "output_type": "execute_result"
    }
   ],
   "source": [
    "# display report\n",
    "result"
   ]
  },
  {
   "cell_type": "markdown",
   "id": "4c29b133",
   "metadata": {},
   "source": [
    "### Get Best Parameters"
   ]
  },
  {
   "cell_type": "code",
   "execution_count": 9,
   "id": "3ea6e17e",
   "metadata": {
    "ExecuteTime": {
     "end_time": "2022-04-27T09:31:25.989680Z",
     "start_time": "2022-04-27T09:31:25.987804Z"
    }
   },
   "outputs": [],
   "source": [
    "k_fit = result.values['k']"
   ]
  },
  {
   "cell_type": "markdown",
   "id": "4619c680",
   "metadata": {},
   "source": [
    "### Plot Best Fit Model"
   ]
  },
  {
   "cell_type": "code",
   "execution_count": 10,
   "id": "9b2956f3",
   "metadata": {
    "ExecuteTime": {
     "end_time": "2022-04-27T09:31:26.207418Z",
     "start_time": "2022-04-27T09:31:25.992480Z"
    }
   },
   "outputs": [
    {
     "data": {
      "image/png": "[encoded data removed]",
      "text/plain": [
       "<Figure size 576x360 with 1 Axes>"
      ]
     },
     "metadata": {
      "needs_background": "light"
     },
     "output_type": "display_data"
    }
   ],
   "source": [
    "fig, ax = plt.subplots(figsize=(8, 5))\n",
    "\n",
    "# best curve\n",
    "curve_fit = concentration_func(t, k_fit)\n",
    "\n",
    "ax.scatter(t, Ca_data, label='data')\n",
    "ax.plot(t, curve_fit, label=f'$C_A(t)$', linestyle='--', color='green')\n",
    "ax.set_xlabel('t')\n",
    "ax.set_ylabel('Concentration of A')\n",
    "ax.legend();"
   ]
  },
  {
   "cell_type": "markdown",
   "id": "faaf849c",
   "metadata": {},
   "source": [
    "### Model Confidence Interval"
   ]
  },
  {
   "cell_type": "code",
   "execution_count": 11,
   "id": "382506b8",
   "metadata": {
    "ExecuteTime": {
     "end_time": "2022-04-27T09:31:26.212545Z",
     "start_time": "2022-04-27T09:31:26.208701Z"
    }
   },
   "outputs": [],
   "source": [
    "err = result.eval_uncertainty(sigma=2)"
   ]
  },
  {
   "cell_type": "code",
   "execution_count": 12,
   "id": "8c4536e4",
   "metadata": {
    "ExecuteTime": {
     "end_time": "2022-04-27T09:31:26.301595Z",
     "start_time": "2022-04-27T09:31:26.213602Z"
    }
   },
   "outputs": [
    {
     "data": {
      "image/png": "[encoded data removed]",
      "text/plain": [
       "<Figure size 576x360 with 1 Axes>"
      ]
     },
     "metadata": {
      "needs_background": "light"
     },
     "output_type": "display_data"
    }
   ],
   "source": [
    "fig, ax = plt.subplots(figsize=(8, 5))\n",
    "\n",
    "# best curve\n",
    "curve_fit = concentration_func(t, k_fit)\n",
    "\n",
    "ax.plot(t, curve_fit, label=f'$C_A(t)$', linestyle='--', color='green')\n",
    "ax.fill_between(t, curve_fit+err, curve_fit-err, label='2-sigma error',\n",
    "                color='green', alpha=.5)\n",
    "ax.set_xlabel('t')\n",
    "ax.set_ylabel('Concentration of A')\n",
    "ax.legend();"
   ]
  },
  {
   "cell_type": "markdown",
   "id": "e03d31b0",
   "metadata": {},
   "source": [
    "### Prediction Interval"
   ]
  },
  {
   "cell_type": "code",
   "execution_count": 13,
   "id": "affe0ce5",
   "metadata": {
    "ExecuteTime": {
     "end_time": "2022-04-27T09:31:26.305238Z",
     "start_time": "2022-04-27T09:31:26.302663Z"
    }
   },
   "outputs": [
    {
     "data": {
      "text/plain": [
       "0.00317627204615951"
      ]
     },
     "execution_count": 13,
     "metadata": {},
     "output_type": "execute_result"
    }
   ],
   "source": [
    "noise = np.std(Ca_data - curve_fit)\n",
    "noise"
   ]
  },
  {
   "cell_type": "code",
   "execution_count": 14,
   "id": "3166675c",
   "metadata": {
    "ExecuteTime": {
     "end_time": "2022-04-27T09:31:26.308643Z",
     "start_time": "2022-04-27T09:31:26.306397Z"
    }
   },
   "outputs": [],
   "source": [
    "# best curve\n",
    "curve_fit = concentration_func(t, k_fit)"
   ]
  },
  {
   "cell_type": "code",
   "execution_count": 15,
   "id": "68a4a980",
   "metadata": {
    "ExecuteTime": {
     "end_time": "2022-04-27T09:31:26.328803Z",
     "start_time": "2022-04-27T09:31:26.309724Z"
    }
   },
   "outputs": [],
   "source": [
    "# determine prediction interval via parametrized bootstrapping\n",
    "# we assume that the noise comes from a gaussian distribution\n",
    "preds = np.array([np.random.normal(curve_fit, noise) for j in range(1000)])\n",
    "upper, lower = np.quantile(preds, [.025, .975], axis=0)"
   ]
  },
  {
   "cell_type": "code",
   "execution_count": 16,
   "id": "b7e41e5d",
   "metadata": {
    "ExecuteTime": {
     "end_time": "2022-04-27T09:31:26.434790Z",
     "start_time": "2022-04-27T09:31:26.329940Z"
    }
   },
   "outputs": [
    {
     "data": {
      "image/png": "[encoded data removed]",
      "text/plain": [
       "<Figure size 576x360 with 1 Axes>"
      ]
     },
     "metadata": {
      "needs_background": "light"
     },
     "output_type": "display_data"
    }
   ],
   "source": [
    "fig, ax = plt.subplots(figsize=(8, 5))\n",
    "\n",
    "ax.scatter(t, Ca_data, label='data')\n",
    "ax.plot(t, curve_fit, label=f'$C_A(t)$', linestyle='--', color='green')\n",
    "ax.fill_between(t, curve_fit+err, curve_fit-err, label='95% Prediction Interval',\n",
    "                color='red', alpha=.5)\n",
    "ax.set_xlabel('t')\n",
    "ax.set_ylabel('Concentration of A')\n",
    "ax.legend();"
   ]
  },
  {
   "cell_type": "markdown",
   "id": "bd6228cb",
   "metadata": {},
   "source": [
    "## Population Modeling\n",
    "The following content is taken from the book \"A First Course in Mathematical Modeling\" by Frank R. Giordano, William P. Fox, and Steven B. Horton. [Link to Amazon](https://www.amazon.com/First-Course-Mathematical-Modeling/dp/1285050908).\n",
    "\n",
    "### Malthusian Model (Exercise)\n",
    "In the late eighteenth century, [Thomas Malthus (1766–1834)](https://www.britannica.com/biography/Thomas-Malthus) anonymously published *An Essay on the Principle of Population as It Affects the Future Improvement of Society*. In the book, Malthus put forward an exponential model of population and concluded that eventually, the population will exceed the capacity to support it.\n",
    "\n",
    "We begin by looking at the differential equation model:\n",
    "\n",
    "$$\\frac{dP}{dt} = bP - dP = (b - d)P = kP,$$\n",
    "Where $k = b - d$ is the net of birth rate and death rate (aka Population growth rate)."
   ]
  },
  {
   "cell_type": "markdown",
   "id": "da74da13",
   "metadata": {},
   "source": [
    "#### Data\n",
    "For this exercise, we will use the US Census Data From 1610 to 2020 as reported in [wikipedia](https://en.wikipedia.org/wiki/Demographic_history_of_the_United_States)."
   ]
  },
  {
   "cell_type": "code",
   "execution_count": 17,
   "id": "5d0ca62f",
   "metadata": {
    "ExecuteTime": {
     "end_time": "2022-04-27T09:31:26.443905Z",
     "start_time": "2022-04-27T09:31:26.436147Z"
    }
   },
   "outputs": [],
   "source": [
    "df_pop = pd.read_csv('../data/US_population.csv')"
   ]
  },
  {
   "cell_type": "code",
   "execution_count": 18,
   "id": "56fbefdc",
   "metadata": {
    "ExecuteTime": {
     "end_time": "2022-04-27T09:31:26.451732Z",
     "start_time": "2022-04-27T09:31:26.445156Z"
    }
   },
   "outputs": [
    {
     "data": {
      "text/html": [
       "<div>\n",
       "<style scoped>\n",
       "    .dataframe tbody tr th:only-of-type {\n",
       "        vertical-align: middle;\n",
       "    }\n",
       "\n",
       "    .dataframe tbody tr th {\n",
       "        vertical-align: top;\n",
       "    }\n",
       "\n",
       "    .dataframe thead th {\n",
       "        text-align: right;\n",
       "    }\n",
       "</style>\n",
       "<table border=\"1\" class=\"dataframe\">\n",
       "  <thead>\n",
       "    <tr style=\"text-align: right;\">\n",
       "      <th></th>\n",
       "      <th>Census_Year</th>\n",
       "      <th>Population</th>\n",
       "    </tr>\n",
       "  </thead>\n",
       "  <tbody>\n",
       "    <tr>\n",
       "      <th>0</th>\n",
       "      <td>1610</td>\n",
       "      <td>350</td>\n",
       "    </tr>\n",
       "    <tr>\n",
       "      <th>1</th>\n",
       "      <td>1620</td>\n",
       "      <td>2302</td>\n",
       "    </tr>\n",
       "    <tr>\n",
       "      <th>2</th>\n",
       "      <td>1630</td>\n",
       "      <td>4646</td>\n",
       "    </tr>\n",
       "    <tr>\n",
       "      <th>3</th>\n",
       "      <td>1640</td>\n",
       "      <td>26634</td>\n",
       "    </tr>\n",
       "    <tr>\n",
       "      <th>4</th>\n",
       "      <td>1650</td>\n",
       "      <td>50368</td>\n",
       "    </tr>\n",
       "  </tbody>\n",
       "</table>\n",
       "</div>"
      ],
      "text/plain": [
       "   Census_Year  Population\n",
       "0         1610         350\n",
       "1         1620        2302\n",
       "2         1630        4646\n",
       "3         1640       26634\n",
       "4         1650       50368"
      ]
     },
     "execution_count": 18,
     "metadata": {},
     "output_type": "execute_result"
    }
   ],
   "source": [
    "df_pop.head()"
   ]
  },
  {
   "cell_type": "code",
   "execution_count": 19,
   "id": "526fd34c",
   "metadata": {
    "ExecuteTime": {
     "end_time": "2022-04-27T09:31:26.528568Z",
     "start_time": "2022-04-27T09:31:26.452939Z"
    }
   },
   "outputs": [
    {
     "data": {
      "text/plain": [
       "<AxesSubplot:xlabel='Census_Year', ylabel='Population'>"
      ]
     },
     "execution_count": 19,
     "metadata": {},
     "output_type": "execute_result"
    },
    {
     "data": {
      "image/png": "[encoded data removed]",
      "text/plain": [
       "<Figure size 432x288 with 1 Axes>"
      ]
     },
     "metadata": {
      "needs_background": "light"
     },
     "output_type": "display_data"
    }
   ],
   "source": [
    "df_pop.plot.scatter(x='Census_Year', y='Population')"
   ]
  },
  {
   "cell_type": "markdown",
   "id": "ea352bec",
   "metadata": {},
   "source": [
    "#### Instructions\n",
    "Given the data above, fit the Malthusian Model of Population and discuss the results afterwards."
   ]
  },
  {
   "cell_type": "markdown",
   "id": "e1545310",
   "metadata": {},
   "source": [
    "### Limited Growth Model\n",
    "\n",
    "While some populations grow exponentially, in most cases, as the population increases, individuals begin to compete with each other for resources such as food and living space. Now, we will refine the Malthusian model to reflect this insight.\n",
    "\n",
    "Suppose that $k$ from the previous model is no longer constant but a function of the population. Suppose that $k = r(M - P)$. Where $M$ is the maximum population and $r$ is a scaling factor. Then, our updated model will now become:\n",
    "\n",
    "$$\\frac{dP}{dt} = kP = r(M - P)P$$\n",
    "\n",
    "Which is also known as a Logistic Growth Model"
   ]
  },
  {
   "cell_type": "markdown",
   "id": "c5c3ee50",
   "metadata": {},
   "source": [
    "#### Growth of Yeast in Culture"
   ]
  },
  {
   "cell_type": "code",
   "execution_count": 20,
   "id": "1d3c4cd4",
   "metadata": {
    "ExecuteTime": {
     "end_time": "2022-04-27T09:31:26.532181Z",
     "start_time": "2022-04-27T09:31:26.529784Z"
    }
   },
   "outputs": [],
   "source": [
    "t = np.arange(19)\n",
    "yeast_biomass = [9.6, 18.3, 29.0, 47.2, 71.1, 119.1, 174.6, 257.3, 350.7, \n",
    "                 441.0, 513.3, 559.7, 594.8, 629.4, 640.8, 651.1, 655.9,\n",
    "                 659.6, 661.8]"
   ]
  },
  {
   "cell_type": "code",
   "execution_count": 21,
   "id": "191097fe",
   "metadata": {
    "ExecuteTime": {
     "end_time": "2022-04-27T09:31:26.612887Z",
     "start_time": "2022-04-27T09:31:26.533277Z"
    }
   },
   "outputs": [
    {
     "data": {
      "image/png": "[encoded data removed]",
      "text/plain": [
       "<Figure size 720x432 with 1 Axes>"
      ]
     },
     "metadata": {
      "needs_background": "light"
     },
     "output_type": "display_data"
    }
   ],
   "source": [
    "# visualize data\n",
    "fig, ax = plt.subplots(figsize=(10, 6))\n",
    "\n",
    "ax.scatter(t, yeast_biomass, label='data')\n",
    "ax.set_xlabel('Time (hr)')\n",
    "ax.set_ylabel('Observed Yeast Biomass');"
   ]
  },
  {
   "cell_type": "code",
   "execution_count": 22,
   "id": "62a9a24f",
   "metadata": {
    "ExecuteTime": {
     "end_time": "2022-04-27T09:31:26.616770Z",
     "start_time": "2022-04-27T09:31:26.614077Z"
    }
   },
   "outputs": [],
   "source": [
    "# define the curve\n",
    "def yeast_biomass_func(t, r, M):\n",
    "    def ode_func(P, t):\n",
    "        return r*(M - P)*P\n",
    "    \n",
    "    # set initial values\n",
    "    P_init = yeast_biomass[0]\n",
    "    \n",
    "    # solve ode\n",
    "    P_soln = odeint(ode_func, P_init, t)\n",
    "    \n",
    "    return P_soln[:, 0]"
   ]
  },
  {
   "cell_type": "code",
   "execution_count": 23,
   "id": "771a031a",
   "metadata": {
    "ExecuteTime": {
     "end_time": "2022-04-27T09:31:26.740505Z",
     "start_time": "2022-04-27T09:31:26.617893Z"
    }
   },
   "outputs": [
    {
     "data": {
      "image/png": "[encoded data removed]",
      "text/plain": [
       "<Figure size 720x432 with 1 Axes>"
      ]
     },
     "metadata": {
      "needs_background": "light"
     },
     "output_type": "display_data"
    }
   ],
   "source": [
    "# plot curve with initial parameter guess\n",
    "r_init = .001\n",
    "M_init = 750\n",
    "\n",
    "# compute initial curve\n",
    "P_guess = yeast_biomass_func(t, r_init, M_init)\n",
    "\n",
    "# visualize data\n",
    "fig, ax = plt.subplots(figsize=(10, 6))\n",
    "\n",
    "ax.scatter(t, yeast_biomass, label='data')\n",
    "ax.plot(t, P_guess, label='Initial guess', linestyle='--', color='orange')\n",
    "ax.set_xlabel('Time (hr)')\n",
    "ax.set_ylabel('Observed Yeast Biomass');"
   ]
  },
  {
   "cell_type": "code",
   "execution_count": 24,
   "id": "c0e1203c",
   "metadata": {
    "ExecuteTime": {
     "end_time": "2022-04-27T09:31:26.762124Z",
     "start_time": "2022-04-27T09:31:26.741989Z"
    }
   },
   "outputs": [],
   "source": [
    "# Determine Best Fit Parameters and Model\n",
    "model = Model(yeast_biomass_func)\n",
    "result = model.fit(yeast_biomass, t=t, r=r_init, M=M_init)"
   ]
  },
  {
   "cell_type": "code",
   "execution_count": 25,
   "id": "c8419f24",
   "metadata": {
    "ExecuteTime": {
     "end_time": "2022-04-27T09:31:26.766672Z",
     "start_time": "2022-04-27T09:31:26.763446Z"
    }
   },
   "outputs": [
    {
     "data": {
      "text/html": [
       "<h2> Model</h2> Model(yeast_biomass_func) <h2>Fit Statistics</h2><table><tr><td>fitting method</td><td>leastsq</td><td></td></tr><tr><td># function evals</td><td>16</td><td></td></tr><tr><td># data points</td><td>19</td><td></td></tr><tr><td># variables</td><td>2</td><td></td></tr><tr><td>chi-square</td><td> 211.633569</td><td></td></tr><tr><td>reduced chi-square</td><td> 12.4490334</td><td></td></tr><tr><td>Akaike info crit.</td><td> 49.7979297</td><td></td></tr><tr><td>Bayesian info crit.</td><td> 51.6868076</td><td></td></tr></table><h2>Variables</h2><table><tr><th> name </th><th> value </th><th> standard error </th><th> relative error </th><th> initial value </th><th> min </th><th> max </th><th> vary </th></tr><tr><td> r </td><td>  8.1403e-04 </td><td>  3.4742e-06 </td><td> (0.43%) </td><td> 0.001 </td><td>        -inf </td><td>         inf </td><td> True </td></tr><tr><td> M </td><td>  663.993751 </td><td>  1.53480216 </td><td> (0.23%) </td><td> 750 </td><td>        -inf </td><td>         inf </td><td> True </td></tr></table><h2>Correlations (unreported correlations are < 0.100)</h2><table><tr><td>r</td><td>M</td><td>-0.8585</td></tr></table>"
      ],
      "text/plain": [
       "<lmfit.model.ModelResult at 0x7f794a177ed0>"
      ]
     },
     "execution_count": 25,
     "metadata": {},
     "output_type": "execute_result"
    }
   ],
   "source": [
    "result"
   ]
  },
  {
   "cell_type": "code",
   "execution_count": 26,
   "id": "967cbf86",
   "metadata": {
    "ExecuteTime": {
     "end_time": "2022-04-27T09:31:26.770300Z",
     "start_time": "2022-04-27T09:31:26.767917Z"
    }
   },
   "outputs": [],
   "source": [
    "# Get Best Parameters\n",
    "r_fit = result.values['r']\n",
    "M_fit = result.values['M']"
   ]
  },
  {
   "cell_type": "code",
   "execution_count": 27,
   "id": "8c93a663",
   "metadata": {
    "ExecuteTime": {
     "end_time": "2022-04-27T09:31:26.878413Z",
     "start_time": "2022-04-27T09:31:26.771739Z"
    }
   },
   "outputs": [
    {
     "data": {
      "image/png": "[encoded data removed]",
      "text/plain": [
       "<Figure size 720x432 with 1 Axes>"
      ]
     },
     "metadata": {
      "needs_background": "light"
     },
     "output_type": "display_data"
    }
   ],
   "source": [
    "# Plot Best Model with Confidence Interval\n",
    "\n",
    "# compute initial curve\n",
    "P_fit = yeast_biomass_func(t, r_fit, M_fit)\n",
    "\n",
    "# Determine 2-sigma error\n",
    "err = result.eval_uncertainty(sigma=3)\n",
    "\n",
    "# visualize data\n",
    "fig, ax = plt.subplots(figsize=(10, 6))\n",
    "\n",
    "ax.scatter(t, yeast_biomass, label='data')\n",
    "ax.plot(t, P_fit, label=f'Best Fit Model: r={r_fit:.5f}, M={M_fit:.2f}',\n",
    "        linestyle='--', color='green')\n",
    "\n",
    "ax.fill_between(t, P_fit + err, P_fit - err, label='3-sigma error',\n",
    "                color='green', alpha=.3)\n",
    "\n",
    "ax.set_xlabel('Time (hr)')\n",
    "ax.set_ylabel('Observed Yeast Biomass')\n",
    "ax.legend();\n"
   ]
  },
  {
   "cell_type": "markdown",
   "id": "e5de8e1a",
   "metadata": {},
   "source": [
    "## Lotka-Volterra Model\n",
    "The [Lotka-Volterra Equations (Wikipedia)](https://en.wikipedia.org/wiki/Lotka%E2%80%93Volterra_equations) or the Predator-Prey Model was proposed in the 1920 and is commonly used to describe the population dynamics of two interacting species. In this example, we will discuss the population dynamics of the Canada Lynx (*Lynx canadensis*) and snowshoe hare (*Lepus americanus*).\n",
    "\n",
    "We will setup the Lotka-Volterra Model for the Hare-Lynx Dynamics as follows:\n",
    "\n",
    "$$dH = \\alpha H - \\beta HL$$\n",
    "$$dL = -\\gamma L + \\delta HL$$\n",
    "\n",
    "Where:  \n",
    "$H$ - is the Hare population  \n",
    "$L$ - is the Lynx population  \n",
    "\n",
    "$\\alpha, \\beta, \\gamma, \\delta$ are constant parameters defining the population dynamics:  \n",
    "\n",
    "$\\alpha$ - is the natural growth rate of hares when there are no lynx  \n",
    "$\\beta$ - is the natural dying rate of hares due to predation  \n",
    "$\\gamma$ - is the natural dying rate of lynx, when there are no hares.   \n",
    "$\\delta$ - is the factor that describes birth of new lynx due to caught hares\n",
    "\n",
    "For another example, you can also watch [this youtube video](https://www.youtube.com/watch?v=0jgGbCM7dXk) on fitting Predator-Prey Model to Data."
   ]
  },
  {
   "cell_type": "markdown",
   "id": "c0940337",
   "metadata": {},
   "source": [
    "### Define the Function"
   ]
  },
  {
   "cell_type": "code",
   "execution_count": 28,
   "id": "23e0bb2a",
   "metadata": {
    "ExecuteTime": {
     "end_time": "2022-04-27T09:31:26.886709Z",
     "start_time": "2022-04-27T09:31:26.883956Z"
    }
   },
   "outputs": [],
   "source": [
    "def lotka_volterra(t, alpha, beta, gamma, delta):\n",
    "    def ode(populations, t):\n",
    "        H = populations[0]\n",
    "        L = populations[1]\n",
    "        \n",
    "        dH = alpha*H - beta*H*L\n",
    "        dL = -gamma*L + beta*delta*H*L\n",
    "        \n",
    "        return [dH, dL]\n",
    "    \n",
    "   # set initial value(s)\n",
    "    pop_init = [5, 20]\n",
    "    \n",
    "    # find numerical solution to ode\n",
    "    populations_soln = odeint(ode, pop_init, t)\n",
    "    \n",
    "    return populations_soln"
   ]
  },
  {
   "cell_type": "markdown",
   "id": "57a35045",
   "metadata": {},
   "source": [
    "### Set Initial Parameter Values"
   ]
  },
  {
   "cell_type": "code",
   "execution_count": 29,
   "id": "16880be1",
   "metadata": {
    "ExecuteTime": {
     "end_time": "2022-04-27T09:31:26.889874Z",
     "start_time": "2022-04-27T09:31:26.887802Z"
    }
   },
   "outputs": [],
   "source": [
    "t = np.arange(100)\n",
    "alpha_init = 2\n",
    "beta_init = .3\n",
    "gamma_init = .5\n",
    "delta_init = .3"
   ]
  },
  {
   "cell_type": "markdown",
   "id": "650281d2",
   "metadata": {},
   "source": [
    "### Play With An Interactive Plot"
   ]
  },
  {
   "cell_type": "code",
   "execution_count": 30,
   "id": "09bf9cc8",
   "metadata": {
    "ExecuteTime": {
     "end_time": "2022-04-27T09:31:26.921832Z",
     "start_time": "2022-04-27T09:31:26.891288Z"
    }
   },
   "outputs": [],
   "source": [
    "from ipywidgets import interact, FloatSlider, IntSlider"
   ]
  },
  {
   "cell_type": "code",
   "execution_count": 31,
   "id": "73b63af5",
   "metadata": {
    "ExecuteTime": {
     "end_time": "2022-04-27T09:31:27.045987Z",
     "start_time": "2022-04-27T09:31:26.923078Z"
    }
   },
   "outputs": [
    {
     "data": {
      "application/vnd.jupyter.widget-view+json": {
       "model_id": "04ad1c02c1154e7885e9d8bb33694c8d",
       "version_major": 2,
       "version_minor": 0
      },
      "text/plain": [
       "interactive(children=(FloatSlider(value=5.0, description='alpha', max=10.0), FloatSlider(value=0.07, descripti…"
      ]
     },
     "metadata": {},
     "output_type": "display_data"
    }
   ],
   "source": [
    "def plot_interactive_curves(alpha, beta, gamma, delta):\n",
    "    populations_guess = lotka_volterra(t, alpha, beta,\n",
    "                                       gamma, delta).T\n",
    "\n",
    "    H_init = populations_guess[0]\n",
    "    L_init = populations_guess[1]\n",
    "\n",
    "    fig, ax = plt.subplots(figsize=(10, 7))\n",
    "    \n",
    "    ax.plot(t, H_init, label='Hare', color='green')\n",
    "    ax.plot(t, L_init, label='Lynx', color='red')\n",
    "    ax.set_ylim(0,1000)\n",
    "    ax.legend();\n",
    "\n",
    "alpha_slider = FloatSlider(value=5, min=0, max=10, step=.1, description='alpha')\n",
    "beta_slider = FloatSlider(value=.07, min=0, max=.5, step=.1, description='beta')\n",
    "gamma_slider = FloatSlider(value=.5, min=0, max=1, step=.01, description='gamma')\n",
    "delta_slider = FloatSlider(value=.1, min=0, max=.5, step=.01, description='delta')\n",
    "\n",
    "interact(plot_interactive_curves, alpha=alpha_slider, beta=beta_slider,\n",
    "         gamma=gamma_slider, delta=delta_slider);"
   ]
  },
  {
   "cell_type": "markdown",
   "id": "cbda61fa",
   "metadata": {},
   "source": [
    "## SIERD Models and Covid-19 Simulations\n",
    "\n",
    "Now that we've become much more familiar with ODE modeling in Python as well as built an interactive widget, we can now attempt to model transmission of infectious diseases via ODEs.\n",
    "\n",
    "### SEIR/D Models\n",
    "SEIRD model is a type of compartmental models that divides a population into multiple compartments: **S**usceptible, **E**xposed, **I**nfected, **R**ecovered/**D**ead. \n",
    "\n",
    "The advantage of these types of models is that we can create them even when data is limited as long as the ODEs are reasonably designed.\n",
    "\n",
    "We define the SEIRD model as the following:\n",
    "\n",
    "$\\frac{dS}{dt} = -\\frac{\\beta SI}{N},$\n",
    "\n",
    "$\\frac{dE}{dt} = \\frac{\\beta SI}{N} - \\sigma E,$\n",
    "\n",
    "$\\frac{dI}{dt} = \\sigma E - \\gamma  I - \\mu I,$\n",
    "\n",
    "$\\frac{dR}{dt} = \\gamma  I,$\n",
    "\n",
    "$\\frac{dD}{dt} = \\mu  I,$\n",
    "\n",
    "$N = S + E + I + R$\n",
    "\n",
    "Where,  \n",
    "$\\beta$ is the infection rate  \n",
    "$\\sigma$ is the incubation rate  \n",
    "$\\gamma$ is the recovery rate  \n",
    "$\\mu$ is the mortality rate due to the disease"
   ]
  },
  {
   "cell_type": "code",
   "execution_count": 32,
   "id": "585cd66e",
   "metadata": {
    "ExecuteTime": {
     "end_time": "2022-04-27T09:31:27.048951Z",
     "start_time": "2022-04-27T09:31:27.047251Z"
    }
   },
   "outputs": [],
   "source": [
    "# df_cases = pd.read_csv('https://covid19.who.int/WHO-COVID-19-global-data.csv')\n",
    "\n",
    "# df_ph = (df_cases[df_cases.Country=='Philippines']\n",
    "#          .loc[:, ['Date_reported', 'New_cases', 'New_deaths']])\n",
    "# df_ph.Date_reported = pd.to_datetime(df_ph.Date_reported)\n",
    "# df_ph.set_index('Date_reported', inplace=True)"
   ]
  },
  {
   "cell_type": "code",
   "execution_count": 33,
   "id": "0bda7c80",
   "metadata": {
    "ExecuteTime": {
     "end_time": "2022-04-27T09:31:27.051484Z",
     "start_time": "2022-04-27T09:31:27.049916Z"
    }
   },
   "outputs": [],
   "source": [
    "# df_ph.New_cases.rolling(7).sum().plot(figsize=(10, 6))"
   ]
  },
  {
   "cell_type": "markdown",
   "id": "5aaea6b9",
   "metadata": {},
   "source": [
    "#### Define the Function"
   ]
  },
  {
   "cell_type": "code",
   "execution_count": 34,
   "id": "37c3b165",
   "metadata": {
    "ExecuteTime": {
     "end_time": "2022-04-27T09:31:27.055886Z",
     "start_time": "2022-04-27T09:31:27.052832Z"
    }
   },
   "outputs": [],
   "source": [
    "def seird(t, initial_conditions, beta, sigma, gamma, mu):\n",
    "    \n",
    "    def ode(initial_conditions, t):\n",
    "        S, E, I, R, D = initial_conditions\n",
    "        N = S + E + I + R + D\n",
    "        \n",
    "        # define the ODEs\n",
    "        dS = -beta*S*I/N\n",
    "        dE = beta*S*I/N - sigma*E\n",
    "        dI = sigma*E - gamma*I - mu*I\n",
    "        dR = gamma*I\n",
    "        dD = mu*I\n",
    "        \n",
    "        return [dS, dE, dI, dR, dD]\n",
    "    \n",
    "    # find numerical solution to ode\n",
    "    soln = odeint(ode, initial_conditions, t)\n",
    "    \n",
    "    return soln"
   ]
  },
  {
   "cell_type": "markdown",
   "id": "c9866cfc",
   "metadata": {},
   "source": [
    "#### Set Initial Conditions and Parameters\n",
    "\n",
    "Suppose we based values of the compartmental model on numbers in the Philippines"
   ]
  },
  {
   "cell_type": "code",
   "execution_count": 35,
   "id": "074b7d35",
   "metadata": {
    "ExecuteTime": {
     "end_time": "2022-04-27T09:31:27.059499Z",
     "start_time": "2022-04-27T09:31:27.056943Z"
    }
   },
   "outputs": [],
   "source": [
    "# set initial value(s)\n",
    "N_init = 109600000 # Total Population in PH\n",
    "\n",
    "E_init = 1000 # assumed value\n",
    "I_init = 50 # assumed value\n",
    "R_init = 0\n",
    "D_init = 0\n",
    "\n",
    "S_init = N_init - E_init - I_init - R_init - D_init\n",
    "initial_conditions = [S_init, E_init, I_init, R_init, D_init]"
   ]
  },
  {
   "cell_type": "code",
   "execution_count": 36,
   "id": "32ec7bdf",
   "metadata": {
    "ExecuteTime": {
     "end_time": "2022-04-27T09:31:27.063740Z",
     "start_time": "2022-04-27T09:31:27.060611Z"
    }
   },
   "outputs": [],
   "source": [
    "# Initial Parameters\n",
    "sigma_init = 1 / 5.2 # average incubation period is 5.2 days\n",
    "gamma_init = 1 / 18 # average illness duration is 18 days\n",
    "\n",
    "# We model transmission/infection rate as the product of Reproduction number and recovery rate\n",
    "Rt = 3 # for this demonstration, we assume a fixed reproduction rate\n",
    "beta_init = Rt * gamma_init\n",
    "\n",
    "mu_init = 60182/3684500 # number of deaths over number of cases"
   ]
  },
  {
   "cell_type": "markdown",
   "id": "cfa4b908",
   "metadata": {},
   "source": [
    "#### Interactive Plot"
   ]
  },
  {
   "cell_type": "code",
   "execution_count": 37,
   "id": "59f649ae",
   "metadata": {
    "ExecuteTime": {
     "end_time": "2022-04-27T09:31:27.069017Z",
     "start_time": "2022-04-27T09:31:27.065186Z"
    }
   },
   "outputs": [],
   "source": [
    "def plot_interactive_seird(tsteps, E, I, R, D, Rt, sigma, gamma, mu):\n",
    "    t = np.arange(tsteps)\n",
    "    \n",
    "    initial_conditions = [N_init - E - I - R - D, E, I, R, D]\n",
    "    beta = Rt*gamma\n",
    "    soln = seird(t, initial_conditions, beta, sigma, gamma, mu)\n",
    "\n",
    "    S = soln[:, 0]\n",
    "    E = soln[:, 1]\n",
    "    I = soln[:, 2]\n",
    "    R = soln[:, 3]\n",
    "    D = soln[:, 4]\n",
    "    \n",
    "    fig, ax = plt.subplots(figsize=(10, 8))\n",
    "    labels = ['Susceptible', 'Exposed', 'Infected', 'Recovered', 'Dead']\n",
    "    colors= ['blue', 'orange', 'red', 'green', 'k']\n",
    "    for i in range(5):\n",
    "        ax.plot(t, soln[:, i], label=labels[i], color=colors[i])\n",
    "    ax.set_xlabel('days')\n",
    "    ax.set_ylabel('Number of Individuals')\n",
    "    ax.legend();"
   ]
  },
  {
   "cell_type": "code",
   "execution_count": 38,
   "id": "06a841ec",
   "metadata": {
    "ExecuteTime": {
     "end_time": "2022-04-27T09:31:27.221756Z",
     "start_time": "2022-04-27T09:31:27.070172Z"
    }
   },
   "outputs": [
    {
     "data": {
      "application/vnd.jupyter.widget-view+json": {
       "model_id": "7cdaecab175847938cfe1e76dbed96dc",
       "version_major": 2,
       "version_minor": 0
      },
      "text/plain": [
       "interactive(children=(IntSlider(value=365, description='timesteps', max=1000), IntSlider(value=1000, descripti…"
      ]
     },
     "metadata": {},
     "output_type": "display_data"
    }
   ],
   "source": [
    "# slider for time\n",
    "t_slider = IntSlider(value=365, min=0, max=1000, description='timesteps')\n",
    "\n",
    "# sliders for initial conditions\n",
    "E_slider = IntSlider(value=E_init, min=0, max=1000000, step=1000, description='Exposed')\n",
    "I_slider = IntSlider(value=I_init, min=0, max=N_init, step=100, description='Infected')\n",
    "R_slider = IntSlider(value=R_init, min=0, max=N_init, step=100, description='Recovered')\n",
    "D_slider = IntSlider(value=D_init, min=0, max=N_init, step=100, description='Infected')\n",
    "\n",
    "# sliders for parameters\n",
    "Rt_slider = FloatSlider(value=Rt, min=0, max=10, step=.1, description='Rt')\n",
    "# beta_slider = FloatSlider(value=beta_init, min=0, max=1, step=.02, description='beta')\n",
    "sigma_slider = FloatSlider(value=sigma_init, min=0, max=.5, step=.02, description='sigma')\n",
    "gamma_slider = FloatSlider(value=gamma_init, min=0, max=1, step=.02, description='gamma')\n",
    "mu_slider = FloatSlider(value=mu_init, min=0, max=.5, step=.02, description='mu')\n",
    "\n",
    "interact(plot_interactive_seird, tsteps=t_slider, E=E_slider, I=I_slider, R=R_slider,\n",
    "         D=D_slider, Rt=Rt_slider, sigma=sigma_slider, gamma=gamma_slider, mu=mu_slider);"
   ]
  },
  {
   "cell_type": "markdown",
   "id": "c0be69c5",
   "metadata": {},
   "source": [
    "#### Additional Resources\n",
    "1. [Fitting an SEIRD Model on Covid-19 Data in India](https://towardsdatascience.com/estimating-parameters-of-compartmental-models-from-observed-data-62f87966bb2b)"
   ]
  }
 ],
 "metadata": {
  "kernelspec": {
   "display_name": "Python 3 (ipykernel)",
   "language": "python",
   "name": "python3"
  },
  "language_info": {
   "codemirror_mode": {
    "name": "ipython",
    "version": 3
   },
   "file_extension": ".py",
   "mimetype": "text/x-python",
   "name": "python",
   "nbconvert_exporter": "python",
   "pygments_lexer": "ipython3",
   "version": "3.7.12"
  },
  "toc": {
   "base_numbering": 1,
   "nav_menu": {},
   "number_sections": true,
   "sideBar": true,
   "skip_h1_title": false,
   "title_cell": "Table of Contents",
   "title_sidebar": "Contents",
   "toc_cell": false,
   "toc_position": {},
   "toc_section_display": true,
   "toc_window_display": true
  }
 },
 "nbformat": 4,
 "nbformat_minor": 5
}
